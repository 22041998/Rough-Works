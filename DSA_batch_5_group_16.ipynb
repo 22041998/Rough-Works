{
  "nbformat": 4,
  "nbformat_minor": 0,
  "metadata": {
    "colab": {
      "name": "DSA batch-5 group-16.ipynb",
      "provenance": [],
      "collapsed_sections": [],
      "include_colab_link": true
    },
    "kernelspec": {
      "name": "python3",
      "display_name": "Python 3"
    },
    "language_info": {
      "name": "python"
    }
  },
  "cells": [
    {
      "cell_type": "markdown",
      "metadata": {
        "id": "view-in-github",
        "colab_type": "text"
      },
      "source": [
        "<a href=\"https://colab.research.google.com/github/22041998/Rough-Works/blob/main/DSA_batch_5_group_16.ipynb\" target=\"_parent\"><img src=\"https://colab.research.google.com/assets/colab-badge.svg\" alt=\"Open In Colab\"/></a>"
      ]
    },
    {
      "cell_type": "code",
      "execution_count": null,
      "metadata": {
        "id": "xDgnMQANDCNn"
      },
      "outputs": [],
      "source": [
        "# importing libraries for doing operations\n",
        "import pandas as pd\n",
        "import numpy as np\n",
        "import matplotlib.pyplot as plt\n",
        "import seaborn as sns"
      ]
    },
    {
      "cell_type": "code",
      "source": [
        "# Loading the dataset for Social Media Analysis\n",
        "#url = 'https://dphi.s3.ap-south-1.amazonaws.com/dataset/test_age_dataset.csv'\n",
        "#data = pd.read_table(url)"
      ],
      "metadata": {
        "id": "VluSY45bDSBN"
      },
      "execution_count": null,
      "outputs": []
    },
    {
      "cell_type": "code",
      "source": [
        "#Loading the file\n",
        "data=pd.read_csv('test_age_dataset.csv')"
      ],
      "metadata": {
        "id": "dqTJvstHvh6-"
      },
      "execution_count": null,
      "outputs": []
    },
    {
      "cell_type": "code",
      "source": [
        "# displaying the data\n",
        "data.head()"
      ],
      "metadata": {
        "id": "rdueKSxvEbMs",
        "colab": {
          "base_uri": "https://localhost:8080/",
          "height": 288
        },
        "outputId": "932d0fba-e595-4e69-e4bf-5ae33f2b8faa"
      },
      "execution_count": null,
      "outputs": [
        {
          "output_type": "execute_result",
          "data": {
            "text/html": [
              "\n",
              "  <div id=\"df-e9c5684a-967a-40d7-80b6-c859db3ab47c\">\n",
              "    <div class=\"colab-df-container\">\n",
              "      <div>\n",
              "<style scoped>\n",
              "    .dataframe tbody tr th:only-of-type {\n",
              "        vertical-align: middle;\n",
              "    }\n",
              "\n",
              "    .dataframe tbody tr th {\n",
              "        vertical-align: top;\n",
              "    }\n",
              "\n",
              "    .dataframe thead th {\n",
              "        text-align: right;\n",
              "    }\n",
              "</style>\n",
              "<table border=\"1\" class=\"dataframe\">\n",
              "  <thead>\n",
              "    <tr style=\"text-align: right;\">\n",
              "      <th></th>\n",
              "      <th>Unnamed: 0</th>\n",
              "      <th>userId</th>\n",
              "      <th>tier</th>\n",
              "      <th>gender</th>\n",
              "      <th>following_rate</th>\n",
              "      <th>followers_avg_age</th>\n",
              "      <th>following_avg_age</th>\n",
              "      <th>max_repetitive_punc</th>\n",
              "      <th>num_of_hashtags_per_action</th>\n",
              "      <th>emoji_count_per_action</th>\n",
              "      <th>punctuations_per_action</th>\n",
              "      <th>number_of_words_per_action</th>\n",
              "      <th>avgCompletion</th>\n",
              "      <th>avgTimeSpent</th>\n",
              "      <th>avgDuration</th>\n",
              "      <th>avgComments</th>\n",
              "      <th>creations</th>\n",
              "      <th>content_views</th>\n",
              "      <th>num_of_comments</th>\n",
              "      <th>weekends_trails_watched_per_day</th>\n",
              "      <th>weekdays_trails_watched_per_day</th>\n",
              "      <th>slot1_trails_watched_per_day</th>\n",
              "      <th>slot2_trails_watched_per_day</th>\n",
              "      <th>slot3_trails_watched_per_day</th>\n",
              "      <th>slot4_trails_watched_per_day</th>\n",
              "      <th>avgt2</th>\n",
              "    </tr>\n",
              "  </thead>\n",
              "  <tbody>\n",
              "    <tr>\n",
              "      <th>0</th>\n",
              "      <td>62683</td>\n",
              "      <td>33840667</td>\n",
              "      <td>2</td>\n",
              "      <td>1</td>\n",
              "      <td>0.000000</td>\n",
              "      <td>0.0</td>\n",
              "      <td>0.0</td>\n",
              "      <td>0</td>\n",
              "      <td>0.0</td>\n",
              "      <td>0.0</td>\n",
              "      <td>0.0</td>\n",
              "      <td>0.000000</td>\n",
              "      <td>0.033242</td>\n",
              "      <td>4.500000</td>\n",
              "      <td>120.313571</td>\n",
              "      <td>0</td>\n",
              "      <td>0.000000</td>\n",
              "      <td>0.062992</td>\n",
              "      <td>0.0</td>\n",
              "      <td>0.000000</td>\n",
              "      <td>0.012598</td>\n",
              "      <td>0.000000</td>\n",
              "      <td>0.000000</td>\n",
              "      <td>0.062992</td>\n",
              "      <td>0.000000</td>\n",
              "      <td>0.0</td>\n",
              "    </tr>\n",
              "    <tr>\n",
              "      <th>1</th>\n",
              "      <td>173104</td>\n",
              "      <td>1828421</td>\n",
              "      <td>2</td>\n",
              "      <td>1</td>\n",
              "      <td>0.001818</td>\n",
              "      <td>0.0</td>\n",
              "      <td>0.0</td>\n",
              "      <td>0</td>\n",
              "      <td>0.0</td>\n",
              "      <td>0.0</td>\n",
              "      <td>0.0</td>\n",
              "      <td>0.000000</td>\n",
              "      <td>0.051057</td>\n",
              "      <td>9.500000</td>\n",
              "      <td>188.615500</td>\n",
              "      <td>0</td>\n",
              "      <td>0.000000</td>\n",
              "      <td>0.003636</td>\n",
              "      <td>0.0</td>\n",
              "      <td>0.000000</td>\n",
              "      <td>0.000727</td>\n",
              "      <td>0.000000</td>\n",
              "      <td>0.000000</td>\n",
              "      <td>0.003636</td>\n",
              "      <td>0.000000</td>\n",
              "      <td>0.0</td>\n",
              "    </tr>\n",
              "    <tr>\n",
              "      <th>2</th>\n",
              "      <td>306061</td>\n",
              "      <td>57353310</td>\n",
              "      <td>2</td>\n",
              "      <td>1</td>\n",
              "      <td>0.000000</td>\n",
              "      <td>0.0</td>\n",
              "      <td>0.0</td>\n",
              "      <td>0</td>\n",
              "      <td>0.0</td>\n",
              "      <td>0.0</td>\n",
              "      <td>0.0</td>\n",
              "      <td>0.000000</td>\n",
              "      <td>0.190984</td>\n",
              "      <td>4.675676</td>\n",
              "      <td>86.572800</td>\n",
              "      <td>0</td>\n",
              "      <td>0.000000</td>\n",
              "      <td>1.028571</td>\n",
              "      <td>0.0</td>\n",
              "      <td>0.000000</td>\n",
              "      <td>0.211429</td>\n",
              "      <td>0.000000</td>\n",
              "      <td>0.000000</td>\n",
              "      <td>0.742857</td>\n",
              "      <td>0.314286</td>\n",
              "      <td>0.0</td>\n",
              "    </tr>\n",
              "    <tr>\n",
              "      <th>3</th>\n",
              "      <td>422061</td>\n",
              "      <td>36618563</td>\n",
              "      <td>2</td>\n",
              "      <td>2</td>\n",
              "      <td>0.000000</td>\n",
              "      <td>0.0</td>\n",
              "      <td>0.0</td>\n",
              "      <td>4</td>\n",
              "      <td>0.0</td>\n",
              "      <td>0.0</td>\n",
              "      <td>0.0</td>\n",
              "      <td>0.130435</td>\n",
              "      <td>0.460543</td>\n",
              "      <td>21.142857</td>\n",
              "      <td>44.439050</td>\n",
              "      <td>0</td>\n",
              "      <td>0.007937</td>\n",
              "      <td>0.166667</td>\n",
              "      <td>0.0</td>\n",
              "      <td>0.067460</td>\n",
              "      <td>0.006349</td>\n",
              "      <td>0.000000</td>\n",
              "      <td>0.111111</td>\n",
              "      <td>0.023810</td>\n",
              "      <td>0.031746</td>\n",
              "      <td>201.0</td>\n",
              "    </tr>\n",
              "    <tr>\n",
              "      <th>4</th>\n",
              "      <td>219653</td>\n",
              "      <td>39484434</td>\n",
              "      <td>2</td>\n",
              "      <td>1</td>\n",
              "      <td>0.000000</td>\n",
              "      <td>0.0</td>\n",
              "      <td>0.0</td>\n",
              "      <td>0</td>\n",
              "      <td>0.0</td>\n",
              "      <td>0.0</td>\n",
              "      <td>0.0</td>\n",
              "      <td>0.000000</td>\n",
              "      <td>0.205251</td>\n",
              "      <td>2.689655</td>\n",
              "      <td>29.136643</td>\n",
              "      <td>0</td>\n",
              "      <td>0.000000</td>\n",
              "      <td>0.233871</td>\n",
              "      <td>0.0</td>\n",
              "      <td>0.116935</td>\n",
              "      <td>0.000000</td>\n",
              "      <td>0.233871</td>\n",
              "      <td>0.000000</td>\n",
              "      <td>0.000000</td>\n",
              "      <td>0.000000</td>\n",
              "      <td>0.0</td>\n",
              "    </tr>\n",
              "  </tbody>\n",
              "</table>\n",
              "</div>\n",
              "      <button class=\"colab-df-convert\" onclick=\"convertToInteractive('df-e9c5684a-967a-40d7-80b6-c859db3ab47c')\"\n",
              "              title=\"Convert this dataframe to an interactive table.\"\n",
              "              style=\"display:none;\">\n",
              "        \n",
              "  <svg xmlns=\"http://www.w3.org/2000/svg\" height=\"24px\"viewBox=\"0 0 24 24\"\n",
              "       width=\"24px\">\n",
              "    <path d=\"M0 0h24v24H0V0z\" fill=\"none\"/>\n",
              "    <path d=\"M18.56 5.44l.94 2.06.94-2.06 2.06-.94-2.06-.94-.94-2.06-.94 2.06-2.06.94zm-11 1L8.5 8.5l.94-2.06 2.06-.94-2.06-.94L8.5 2.5l-.94 2.06-2.06.94zm10 10l.94 2.06.94-2.06 2.06-.94-2.06-.94-.94-2.06-.94 2.06-2.06.94z\"/><path d=\"M17.41 7.96l-1.37-1.37c-.4-.4-.92-.59-1.43-.59-.52 0-1.04.2-1.43.59L10.3 9.45l-7.72 7.72c-.78.78-.78 2.05 0 2.83L4 21.41c.39.39.9.59 1.41.59.51 0 1.02-.2 1.41-.59l7.78-7.78 2.81-2.81c.8-.78.8-2.07 0-2.86zM5.41 20L4 18.59l7.72-7.72 1.47 1.35L5.41 20z\"/>\n",
              "  </svg>\n",
              "      </button>\n",
              "      \n",
              "  <style>\n",
              "    .colab-df-container {\n",
              "      display:flex;\n",
              "      flex-wrap:wrap;\n",
              "      gap: 12px;\n",
              "    }\n",
              "\n",
              "    .colab-df-convert {\n",
              "      background-color: #E8F0FE;\n",
              "      border: none;\n",
              "      border-radius: 50%;\n",
              "      cursor: pointer;\n",
              "      display: none;\n",
              "      fill: #1967D2;\n",
              "      height: 32px;\n",
              "      padding: 0 0 0 0;\n",
              "      width: 32px;\n",
              "    }\n",
              "\n",
              "    .colab-df-convert:hover {\n",
              "      background-color: #E2EBFA;\n",
              "      box-shadow: 0px 1px 2px rgba(60, 64, 67, 0.3), 0px 1px 3px 1px rgba(60, 64, 67, 0.15);\n",
              "      fill: #174EA6;\n",
              "    }\n",
              "\n",
              "    [theme=dark] .colab-df-convert {\n",
              "      background-color: #3B4455;\n",
              "      fill: #D2E3FC;\n",
              "    }\n",
              "\n",
              "    [theme=dark] .colab-df-convert:hover {\n",
              "      background-color: #434B5C;\n",
              "      box-shadow: 0px 1px 3px 1px rgba(0, 0, 0, 0.15);\n",
              "      filter: drop-shadow(0px 1px 2px rgba(0, 0, 0, 0.3));\n",
              "      fill: #FFFFFF;\n",
              "    }\n",
              "  </style>\n",
              "\n",
              "      <script>\n",
              "        const buttonEl =\n",
              "          document.querySelector('#df-e9c5684a-967a-40d7-80b6-c859db3ab47c button.colab-df-convert');\n",
              "        buttonEl.style.display =\n",
              "          google.colab.kernel.accessAllowed ? 'block' : 'none';\n",
              "\n",
              "        async function convertToInteractive(key) {\n",
              "          const element = document.querySelector('#df-e9c5684a-967a-40d7-80b6-c859db3ab47c');\n",
              "          const dataTable =\n",
              "            await google.colab.kernel.invokeFunction('convertToInteractive',\n",
              "                                                     [key], {});\n",
              "          if (!dataTable) return;\n",
              "\n",
              "          const docLinkHtml = 'Like what you see? Visit the ' +\n",
              "            '<a target=\"_blank\" href=https://colab.research.google.com/notebooks/data_table.ipynb>data table notebook</a>'\n",
              "            + ' to learn more about interactive tables.';\n",
              "          element.innerHTML = '';\n",
              "          dataTable['output_type'] = 'display_data';\n",
              "          await google.colab.output.renderOutput(dataTable, element);\n",
              "          const docLink = document.createElement('div');\n",
              "          docLink.innerHTML = docLinkHtml;\n",
              "          element.appendChild(docLink);\n",
              "        }\n",
              "      </script>\n",
              "    </div>\n",
              "  </div>\n",
              "  "
            ],
            "text/plain": [
              "   Unnamed: 0    userId  ...  slot4_trails_watched_per_day  avgt2\n",
              "0       62683  33840667  ...                      0.000000    0.0\n",
              "1      173104   1828421  ...                      0.000000    0.0\n",
              "2      306061  57353310  ...                      0.314286    0.0\n",
              "3      422061  36618563  ...                      0.031746  201.0\n",
              "4      219653  39484434  ...                      0.000000    0.0\n",
              "\n",
              "[5 rows x 26 columns]"
            ]
          },
          "metadata": {},
          "execution_count": 68
        }
      ]
    },
    {
      "cell_type": "code",
      "source": [
        "# Converting the data into tabular form\n",
        "#data = pd.read_table(url, sep=',')"
      ],
      "metadata": {
        "id": "W3ycBah8Exmz"
      },
      "execution_count": null,
      "outputs": []
    },
    {
      "cell_type": "code",
      "source": [
        "# display the first 5 rows\n",
        "data.head()"
      ],
      "metadata": {
        "id": "FGyQsiYTE8zF",
        "colab": {
          "base_uri": "https://localhost:8080/",
          "height": 288
        },
        "outputId": "7aa237c4-8c17-408e-a708-f31ebafb1efe"
      },
      "execution_count": null,
      "outputs": [
        {
          "output_type": "execute_result",
          "data": {
            "text/html": [
              "\n",
              "  <div id=\"df-347627f0-2ee0-4882-8906-19737139ac77\">\n",
              "    <div class=\"colab-df-container\">\n",
              "      <div>\n",
              "<style scoped>\n",
              "    .dataframe tbody tr th:only-of-type {\n",
              "        vertical-align: middle;\n",
              "    }\n",
              "\n",
              "    .dataframe tbody tr th {\n",
              "        vertical-align: top;\n",
              "    }\n",
              "\n",
              "    .dataframe thead th {\n",
              "        text-align: right;\n",
              "    }\n",
              "</style>\n",
              "<table border=\"1\" class=\"dataframe\">\n",
              "  <thead>\n",
              "    <tr style=\"text-align: right;\">\n",
              "      <th></th>\n",
              "      <th>Unnamed: 0</th>\n",
              "      <th>userId</th>\n",
              "      <th>tier</th>\n",
              "      <th>gender</th>\n",
              "      <th>following_rate</th>\n",
              "      <th>followers_avg_age</th>\n",
              "      <th>following_avg_age</th>\n",
              "      <th>max_repetitive_punc</th>\n",
              "      <th>num_of_hashtags_per_action</th>\n",
              "      <th>emoji_count_per_action</th>\n",
              "      <th>punctuations_per_action</th>\n",
              "      <th>number_of_words_per_action</th>\n",
              "      <th>avgCompletion</th>\n",
              "      <th>avgTimeSpent</th>\n",
              "      <th>avgDuration</th>\n",
              "      <th>avgComments</th>\n",
              "      <th>creations</th>\n",
              "      <th>content_views</th>\n",
              "      <th>num_of_comments</th>\n",
              "      <th>weekends_trails_watched_per_day</th>\n",
              "      <th>weekdays_trails_watched_per_day</th>\n",
              "      <th>slot1_trails_watched_per_day</th>\n",
              "      <th>slot2_trails_watched_per_day</th>\n",
              "      <th>slot3_trails_watched_per_day</th>\n",
              "      <th>slot4_trails_watched_per_day</th>\n",
              "      <th>avgt2</th>\n",
              "    </tr>\n",
              "  </thead>\n",
              "  <tbody>\n",
              "    <tr>\n",
              "      <th>0</th>\n",
              "      <td>62683</td>\n",
              "      <td>33840667</td>\n",
              "      <td>2</td>\n",
              "      <td>1</td>\n",
              "      <td>0.000000</td>\n",
              "      <td>0.0</td>\n",
              "      <td>0.0</td>\n",
              "      <td>0</td>\n",
              "      <td>0.0</td>\n",
              "      <td>0.0</td>\n",
              "      <td>0.0</td>\n",
              "      <td>0.000000</td>\n",
              "      <td>0.033242</td>\n",
              "      <td>4.500000</td>\n",
              "      <td>120.313571</td>\n",
              "      <td>0</td>\n",
              "      <td>0.000000</td>\n",
              "      <td>0.062992</td>\n",
              "      <td>0.0</td>\n",
              "      <td>0.000000</td>\n",
              "      <td>0.012598</td>\n",
              "      <td>0.000000</td>\n",
              "      <td>0.000000</td>\n",
              "      <td>0.062992</td>\n",
              "      <td>0.000000</td>\n",
              "      <td>0.0</td>\n",
              "    </tr>\n",
              "    <tr>\n",
              "      <th>1</th>\n",
              "      <td>173104</td>\n",
              "      <td>1828421</td>\n",
              "      <td>2</td>\n",
              "      <td>1</td>\n",
              "      <td>0.001818</td>\n",
              "      <td>0.0</td>\n",
              "      <td>0.0</td>\n",
              "      <td>0</td>\n",
              "      <td>0.0</td>\n",
              "      <td>0.0</td>\n",
              "      <td>0.0</td>\n",
              "      <td>0.000000</td>\n",
              "      <td>0.051057</td>\n",
              "      <td>9.500000</td>\n",
              "      <td>188.615500</td>\n",
              "      <td>0</td>\n",
              "      <td>0.000000</td>\n",
              "      <td>0.003636</td>\n",
              "      <td>0.0</td>\n",
              "      <td>0.000000</td>\n",
              "      <td>0.000727</td>\n",
              "      <td>0.000000</td>\n",
              "      <td>0.000000</td>\n",
              "      <td>0.003636</td>\n",
              "      <td>0.000000</td>\n",
              "      <td>0.0</td>\n",
              "    </tr>\n",
              "    <tr>\n",
              "      <th>2</th>\n",
              "      <td>306061</td>\n",
              "      <td>57353310</td>\n",
              "      <td>2</td>\n",
              "      <td>1</td>\n",
              "      <td>0.000000</td>\n",
              "      <td>0.0</td>\n",
              "      <td>0.0</td>\n",
              "      <td>0</td>\n",
              "      <td>0.0</td>\n",
              "      <td>0.0</td>\n",
              "      <td>0.0</td>\n",
              "      <td>0.000000</td>\n",
              "      <td>0.190984</td>\n",
              "      <td>4.675676</td>\n",
              "      <td>86.572800</td>\n",
              "      <td>0</td>\n",
              "      <td>0.000000</td>\n",
              "      <td>1.028571</td>\n",
              "      <td>0.0</td>\n",
              "      <td>0.000000</td>\n",
              "      <td>0.211429</td>\n",
              "      <td>0.000000</td>\n",
              "      <td>0.000000</td>\n",
              "      <td>0.742857</td>\n",
              "      <td>0.314286</td>\n",
              "      <td>0.0</td>\n",
              "    </tr>\n",
              "    <tr>\n",
              "      <th>3</th>\n",
              "      <td>422061</td>\n",
              "      <td>36618563</td>\n",
              "      <td>2</td>\n",
              "      <td>2</td>\n",
              "      <td>0.000000</td>\n",
              "      <td>0.0</td>\n",
              "      <td>0.0</td>\n",
              "      <td>4</td>\n",
              "      <td>0.0</td>\n",
              "      <td>0.0</td>\n",
              "      <td>0.0</td>\n",
              "      <td>0.130435</td>\n",
              "      <td>0.460543</td>\n",
              "      <td>21.142857</td>\n",
              "      <td>44.439050</td>\n",
              "      <td>0</td>\n",
              "      <td>0.007937</td>\n",
              "      <td>0.166667</td>\n",
              "      <td>0.0</td>\n",
              "      <td>0.067460</td>\n",
              "      <td>0.006349</td>\n",
              "      <td>0.000000</td>\n",
              "      <td>0.111111</td>\n",
              "      <td>0.023810</td>\n",
              "      <td>0.031746</td>\n",
              "      <td>201.0</td>\n",
              "    </tr>\n",
              "    <tr>\n",
              "      <th>4</th>\n",
              "      <td>219653</td>\n",
              "      <td>39484434</td>\n",
              "      <td>2</td>\n",
              "      <td>1</td>\n",
              "      <td>0.000000</td>\n",
              "      <td>0.0</td>\n",
              "      <td>0.0</td>\n",
              "      <td>0</td>\n",
              "      <td>0.0</td>\n",
              "      <td>0.0</td>\n",
              "      <td>0.0</td>\n",
              "      <td>0.000000</td>\n",
              "      <td>0.205251</td>\n",
              "      <td>2.689655</td>\n",
              "      <td>29.136643</td>\n",
              "      <td>0</td>\n",
              "      <td>0.000000</td>\n",
              "      <td>0.233871</td>\n",
              "      <td>0.0</td>\n",
              "      <td>0.116935</td>\n",
              "      <td>0.000000</td>\n",
              "      <td>0.233871</td>\n",
              "      <td>0.000000</td>\n",
              "      <td>0.000000</td>\n",
              "      <td>0.000000</td>\n",
              "      <td>0.0</td>\n",
              "    </tr>\n",
              "  </tbody>\n",
              "</table>\n",
              "</div>\n",
              "      <button class=\"colab-df-convert\" onclick=\"convertToInteractive('df-347627f0-2ee0-4882-8906-19737139ac77')\"\n",
              "              title=\"Convert this dataframe to an interactive table.\"\n",
              "              style=\"display:none;\">\n",
              "        \n",
              "  <svg xmlns=\"http://www.w3.org/2000/svg\" height=\"24px\"viewBox=\"0 0 24 24\"\n",
              "       width=\"24px\">\n",
              "    <path d=\"M0 0h24v24H0V0z\" fill=\"none\"/>\n",
              "    <path d=\"M18.56 5.44l.94 2.06.94-2.06 2.06-.94-2.06-.94-.94-2.06-.94 2.06-2.06.94zm-11 1L8.5 8.5l.94-2.06 2.06-.94-2.06-.94L8.5 2.5l-.94 2.06-2.06.94zm10 10l.94 2.06.94-2.06 2.06-.94-2.06-.94-.94-2.06-.94 2.06-2.06.94z\"/><path d=\"M17.41 7.96l-1.37-1.37c-.4-.4-.92-.59-1.43-.59-.52 0-1.04.2-1.43.59L10.3 9.45l-7.72 7.72c-.78.78-.78 2.05 0 2.83L4 21.41c.39.39.9.59 1.41.59.51 0 1.02-.2 1.41-.59l7.78-7.78 2.81-2.81c.8-.78.8-2.07 0-2.86zM5.41 20L4 18.59l7.72-7.72 1.47 1.35L5.41 20z\"/>\n",
              "  </svg>\n",
              "      </button>\n",
              "      \n",
              "  <style>\n",
              "    .colab-df-container {\n",
              "      display:flex;\n",
              "      flex-wrap:wrap;\n",
              "      gap: 12px;\n",
              "    }\n",
              "\n",
              "    .colab-df-convert {\n",
              "      background-color: #E8F0FE;\n",
              "      border: none;\n",
              "      border-radius: 50%;\n",
              "      cursor: pointer;\n",
              "      display: none;\n",
              "      fill: #1967D2;\n",
              "      height: 32px;\n",
              "      padding: 0 0 0 0;\n",
              "      width: 32px;\n",
              "    }\n",
              "\n",
              "    .colab-df-convert:hover {\n",
              "      background-color: #E2EBFA;\n",
              "      box-shadow: 0px 1px 2px rgba(60, 64, 67, 0.3), 0px 1px 3px 1px rgba(60, 64, 67, 0.15);\n",
              "      fill: #174EA6;\n",
              "    }\n",
              "\n",
              "    [theme=dark] .colab-df-convert {\n",
              "      background-color: #3B4455;\n",
              "      fill: #D2E3FC;\n",
              "    }\n",
              "\n",
              "    [theme=dark] .colab-df-convert:hover {\n",
              "      background-color: #434B5C;\n",
              "      box-shadow: 0px 1px 3px 1px rgba(0, 0, 0, 0.15);\n",
              "      filter: drop-shadow(0px 1px 2px rgba(0, 0, 0, 0.3));\n",
              "      fill: #FFFFFF;\n",
              "    }\n",
              "  </style>\n",
              "\n",
              "      <script>\n",
              "        const buttonEl =\n",
              "          document.querySelector('#df-347627f0-2ee0-4882-8906-19737139ac77 button.colab-df-convert');\n",
              "        buttonEl.style.display =\n",
              "          google.colab.kernel.accessAllowed ? 'block' : 'none';\n",
              "\n",
              "        async function convertToInteractive(key) {\n",
              "          const element = document.querySelector('#df-347627f0-2ee0-4882-8906-19737139ac77');\n",
              "          const dataTable =\n",
              "            await google.colab.kernel.invokeFunction('convertToInteractive',\n",
              "                                                     [key], {});\n",
              "          if (!dataTable) return;\n",
              "\n",
              "          const docLinkHtml = 'Like what you see? Visit the ' +\n",
              "            '<a target=\"_blank\" href=https://colab.research.google.com/notebooks/data_table.ipynb>data table notebook</a>'\n",
              "            + ' to learn more about interactive tables.';\n",
              "          element.innerHTML = '';\n",
              "          dataTable['output_type'] = 'display_data';\n",
              "          await google.colab.output.renderOutput(dataTable, element);\n",
              "          const docLink = document.createElement('div');\n",
              "          docLink.innerHTML = docLinkHtml;\n",
              "          element.appendChild(docLink);\n",
              "        }\n",
              "      </script>\n",
              "    </div>\n",
              "  </div>\n",
              "  "
            ],
            "text/plain": [
              "   Unnamed: 0    userId  ...  slot4_trails_watched_per_day  avgt2\n",
              "0       62683  33840667  ...                      0.000000    0.0\n",
              "1      173104   1828421  ...                      0.000000    0.0\n",
              "2      306061  57353310  ...                      0.314286    0.0\n",
              "3      422061  36618563  ...                      0.031746  201.0\n",
              "4      219653  39484434  ...                      0.000000    0.0\n",
              "\n",
              "[5 rows x 26 columns]"
            ]
          },
          "metadata": {},
          "execution_count": 69
        }
      ]
    },
    {
      "cell_type": "code",
      "source": [
        "#Checking unique values\n",
        "data.userId.nunique()"
      ],
      "metadata": {
        "id": "oe47RxSUqVeq",
        "colab": {
          "base_uri": "https://localhost:8080/"
        },
        "outputId": "a5294654-5590-4f69-9692-32bc560d365b"
      },
      "execution_count": null,
      "outputs": [
        {
          "output_type": "execute_result",
          "data": {
            "text/plain": [
              "54320"
            ]
          },
          "metadata": {},
          "execution_count": 70
        }
      ]
    },
    {
      "cell_type": "markdown",
      "source": [
        "Need to Remove the first attribute and making UserID as Index"
      ],
      "metadata": {
        "id": "UOKVS9k_qj3K"
      }
    },
    {
      "cell_type": "code",
      "source": [
        "#changing the index\n",
        "data.drop('Unnamed: 0',inplace=True,axis=1)"
      ],
      "metadata": {
        "id": "9k1bTJYLq3jr"
      },
      "execution_count": null,
      "outputs": []
    },
    {
      "cell_type": "code",
      "source": [
        "# Checking the shape of our dataset\n",
        "data.shape"
      ],
      "metadata": {
        "id": "xoxwXLrpE_s5",
        "colab": {
          "base_uri": "https://localhost:8080/"
        },
        "outputId": "f00cb168-7537-42a8-e0a9-0bd0635974f1"
      },
      "execution_count": null,
      "outputs": [
        {
          "output_type": "execute_result",
          "data": {
            "text/plain": [
              "(54320, 25)"
            ]
          },
          "metadata": {},
          "execution_count": 72
        }
      ]
    },
    {
      "cell_type": "markdown",
      "source": [
        "We have 54320 rows and 25 columns in our dataset"
      ],
      "metadata": {
        "id": "4UrWrikSjWiF"
      }
    },
    {
      "cell_type": "markdown",
      "source": [
        "**Mile Stone 1 completed :** Collected a dataset having 54320 rows and 25 attributes."
      ],
      "metadata": {
        "id": "x7dV8-_aYbgA"
      }
    },
    {
      "cell_type": "markdown",
      "source": [
        "## **Data Preprocessing**"
      ],
      "metadata": {
        "id": "-EWF1Bzkkn5Z"
      }
    },
    {
      "cell_type": "markdown",
      "source": [
        "#####Checking for missing values"
      ],
      "metadata": {
        "id": "tTFjrMp1rZO-"
      }
    },
    {
      "cell_type": "code",
      "source": [
        "# Checking the attributes\n",
        "data.info()"
      ],
      "metadata": {
        "id": "i5A3RRkhY4Ee",
        "colab": {
          "base_uri": "https://localhost:8080/"
        },
        "outputId": "767e640e-5075-4d8a-ca04-1d602ffc8a0c"
      },
      "execution_count": null,
      "outputs": [
        {
          "output_type": "stream",
          "name": "stdout",
          "text": [
            "<class 'pandas.core.frame.DataFrame'>\n",
            "RangeIndex: 54320 entries, 0 to 54319\n",
            "Data columns (total 25 columns):\n",
            " #   Column                           Non-Null Count  Dtype  \n",
            "---  ------                           --------------  -----  \n",
            " 0   userId                           54320 non-null  int64  \n",
            " 1   tier                             54320 non-null  int64  \n",
            " 2   gender                           54320 non-null  int64  \n",
            " 3   following_rate                   54320 non-null  float64\n",
            " 4   followers_avg_age                54320 non-null  float64\n",
            " 5   following_avg_age                54320 non-null  float64\n",
            " 6   max_repetitive_punc              54320 non-null  int64  \n",
            " 7   num_of_hashtags_per_action       54320 non-null  float64\n",
            " 8   emoji_count_per_action           54320 non-null  float64\n",
            " 9   punctuations_per_action          54320 non-null  float64\n",
            " 10  number_of_words_per_action       54320 non-null  float64\n",
            " 11  avgCompletion                    54320 non-null  float64\n",
            " 12  avgTimeSpent                     54320 non-null  float64\n",
            " 13  avgDuration                      54320 non-null  float64\n",
            " 14  avgComments                      54320 non-null  int64  \n",
            " 15  creations                        54320 non-null  float64\n",
            " 16  content_views                    54320 non-null  float64\n",
            " 17  num_of_comments                  54320 non-null  float64\n",
            " 18  weekends_trails_watched_per_day  54320 non-null  float64\n",
            " 19  weekdays_trails_watched_per_day  54320 non-null  float64\n",
            " 20  slot1_trails_watched_per_day     54320 non-null  float64\n",
            " 21  slot2_trails_watched_per_day     54320 non-null  float64\n",
            " 22  slot3_trails_watched_per_day     54320 non-null  float64\n",
            " 23  slot4_trails_watched_per_day     54320 non-null  float64\n",
            " 24  avgt2                            54320 non-null  float64\n",
            "dtypes: float64(20), int64(5)\n",
            "memory usage: 10.4 MB\n"
          ]
        }
      ]
    },
    {
      "cell_type": "code",
      "source": [
        "# Checking for the NULL Values\n",
        "data.isna().sum()"
      ],
      "metadata": {
        "id": "2IKVv4zEZKrD",
        "colab": {
          "base_uri": "https://localhost:8080/"
        },
        "outputId": "bcae0a5d-ad29-477f-c24b-2747325fc58b"
      },
      "execution_count": null,
      "outputs": [
        {
          "output_type": "execute_result",
          "data": {
            "text/plain": [
              "userId                             0\n",
              "tier                               0\n",
              "gender                             0\n",
              "following_rate                     0\n",
              "followers_avg_age                  0\n",
              "following_avg_age                  0\n",
              "max_repetitive_punc                0\n",
              "num_of_hashtags_per_action         0\n",
              "emoji_count_per_action             0\n",
              "punctuations_per_action            0\n",
              "number_of_words_per_action         0\n",
              "avgCompletion                      0\n",
              "avgTimeSpent                       0\n",
              "avgDuration                        0\n",
              "avgComments                        0\n",
              "creations                          0\n",
              "content_views                      0\n",
              "num_of_comments                    0\n",
              "weekends_trails_watched_per_day    0\n",
              "weekdays_trails_watched_per_day    0\n",
              "slot1_trails_watched_per_day       0\n",
              "slot2_trails_watched_per_day       0\n",
              "slot3_trails_watched_per_day       0\n",
              "slot4_trails_watched_per_day       0\n",
              "avgt2                              0\n",
              "dtype: int64"
            ]
          },
          "metadata": {},
          "execution_count": 74
        }
      ]
    },
    {
      "cell_type": "markdown",
      "source": [
        "**No Null Values are present for the given dataset**"
      ],
      "metadata": {
        "id": "xgz2btRlZUAE"
      }
    },
    {
      "cell_type": "code",
      "source": [
        "#Cheking skewness to plot frequency graph\n",
        "frequency_graph=data.select_dtypes(include=['float'])\n",
        "frequency_graph.hist(figsize=(20,20))\n",
        "plt.show()\n",
        "plt.tight_layout()"
      ],
      "metadata": {
        "id": "OTvEmqhTZa2V",
        "colab": {
          "base_uri": "https://localhost:8080/",
          "height": 950
        },
        "outputId": "213c6733-8863-4807-b6f4-ef627e1801c5"
      },
      "execution_count": null,
      "outputs": [
        {
          "output_type": "display_data",
          "data": {
            "image/png": "[encoded data removed]",
            "text/plain": [
              "<Figure size 1440x1440 with 20 Axes>"
            ]
          },
          "metadata": {
            "needs_background": "light"
          }
        },
        {
          "output_type": "display_data",
          "data": {
            "text/plain": [
              "<Figure size 432x288 with 0 Axes>"
            ]
          },
          "metadata": {}
        }
      ]
    },
    {
      "cell_type": "code",
      "source": [
        "#Checking the Stactical summary of the given dataset\n",
        "data.describe()"
      ],
      "metadata": {
        "id": "BOYMqk31Z1sH",
        "colab": {
          "base_uri": "https://localhost:8080/",
          "height": 364
        },
        "outputId": "e66f8f58-3503-4855-c4c5-aeb24daaed20"
      },
      "execution_count": null,
      "outputs": [
        {
          "output_type": "execute_result",
          "data": {
            "text/html": [
              "\n",
              "  <div id=\"df-d7c4ab64-b761-422c-9ac2-0d2c0c3d61cd\">\n",
              "    <div class=\"colab-df-container\">\n",
              "      <div>\n",
              "<style scoped>\n",
              "    .dataframe tbody tr th:only-of-type {\n",
              "        vertical-align: middle;\n",
              "    }\n",
              "\n",
              "    .dataframe tbody tr th {\n",
              "        vertical-align: top;\n",
              "    }\n",
              "\n",
              "    .dataframe thead th {\n",
              "        text-align: right;\n",
              "    }\n",
              "</style>\n",
              "<table border=\"1\" class=\"dataframe\">\n",
              "  <thead>\n",
              "    <tr style=\"text-align: right;\">\n",
              "      <th></th>\n",
              "      <th>userId</th>\n",
              "      <th>tier</th>\n",
              "      <th>gender</th>\n",
              "      <th>following_rate</th>\n",
              "      <th>followers_avg_age</th>\n",
              "      <th>following_avg_age</th>\n",
              "      <th>max_repetitive_punc</th>\n",
              "      <th>num_of_hashtags_per_action</th>\n",
              "      <th>emoji_count_per_action</th>\n",
              "      <th>punctuations_per_action</th>\n",
              "      <th>number_of_words_per_action</th>\n",
              "      <th>avgCompletion</th>\n",
              "      <th>avgTimeSpent</th>\n",
              "      <th>avgDuration</th>\n",
              "      <th>avgComments</th>\n",
              "      <th>creations</th>\n",
              "      <th>content_views</th>\n",
              "      <th>num_of_comments</th>\n",
              "      <th>weekends_trails_watched_per_day</th>\n",
              "      <th>weekdays_trails_watched_per_day</th>\n",
              "      <th>slot1_trails_watched_per_day</th>\n",
              "      <th>slot2_trails_watched_per_day</th>\n",
              "      <th>slot3_trails_watched_per_day</th>\n",
              "      <th>slot4_trails_watched_per_day</th>\n",
              "      <th>avgt2</th>\n",
              "    </tr>\n",
              "  </thead>\n",
              "  <tbody>\n",
              "    <tr>\n",
              "      <th>count</th>\n",
              "      <td>5.432000e+04</td>\n",
              "      <td>54320.000000</td>\n",
              "      <td>54320.000000</td>\n",
              "      <td>54320.000000</td>\n",
              "      <td>54320.000000</td>\n",
              "      <td>54320.000000</td>\n",
              "      <td>54320.000000</td>\n",
              "      <td>54320.000000</td>\n",
              "      <td>54320.000000</td>\n",
              "      <td>54320.000000</td>\n",
              "      <td>54320.000000</td>\n",
              "      <td>54320.000000</td>\n",
              "      <td>54320.000000</td>\n",
              "      <td>54320.000000</td>\n",
              "      <td>54320.000000</td>\n",
              "      <td>54320.000000</td>\n",
              "      <td>54320.000000</td>\n",
              "      <td>54320.000000</td>\n",
              "      <td>54320.000000</td>\n",
              "      <td>54320.000000</td>\n",
              "      <td>54320.000000</td>\n",
              "      <td>54320.000000</td>\n",
              "      <td>54320.000000</td>\n",
              "      <td>54320.000000</td>\n",
              "      <td>54320.000000</td>\n",
              "    </tr>\n",
              "    <tr>\n",
              "      <th>mean</th>\n",
              "      <td>4.248125e+07</td>\n",
              "      <td>1.976105</td>\n",
              "      <td>1.211856</td>\n",
              "      <td>0.081204</td>\n",
              "      <td>0.344033</td>\n",
              "      <td>0.397432</td>\n",
              "      <td>0.734794</td>\n",
              "      <td>0.000357</td>\n",
              "      <td>0.000909</td>\n",
              "      <td>0.012117</td>\n",
              "      <td>0.178509</td>\n",
              "      <td>0.342335</td>\n",
              "      <td>18.350892</td>\n",
              "      <td>82.572262</td>\n",
              "      <td>0.322202</td>\n",
              "      <td>0.017718</td>\n",
              "      <td>0.393404</td>\n",
              "      <td>0.002133</td>\n",
              "      <td>0.075402</td>\n",
              "      <td>0.067343</td>\n",
              "      <td>0.032848</td>\n",
              "      <td>0.141784</td>\n",
              "      <td>0.152749</td>\n",
              "      <td>0.160141</td>\n",
              "      <td>158.286032</td>\n",
              "    </tr>\n",
              "    <tr>\n",
              "      <th>std</th>\n",
              "      <td>1.818136e+07</td>\n",
              "      <td>0.431142</td>\n",
              "      <td>0.408627</td>\n",
              "      <td>3.103205</td>\n",
              "      <td>0.813081</td>\n",
              "      <td>0.917988</td>\n",
              "      <td>2.822803</td>\n",
              "      <td>0.015529</td>\n",
              "      <td>0.017456</td>\n",
              "      <td>0.130576</td>\n",
              "      <td>0.600530</td>\n",
              "      <td>0.196584</td>\n",
              "      <td>245.222420</td>\n",
              "      <td>73.912128</td>\n",
              "      <td>4.606317</td>\n",
              "      <td>0.156423</td>\n",
              "      <td>0.929538</td>\n",
              "      <td>0.031136</td>\n",
              "      <td>0.212199</td>\n",
              "      <td>0.179688</td>\n",
              "      <td>0.175984</td>\n",
              "      <td>0.396400</td>\n",
              "      <td>0.481607</td>\n",
              "      <td>0.502513</td>\n",
              "      <td>920.210984</td>\n",
              "    </tr>\n",
              "    <tr>\n",
              "      <th>min</th>\n",
              "      <td>3.500000e+01</td>\n",
              "      <td>1.000000</td>\n",
              "      <td>1.000000</td>\n",
              "      <td>0.000000</td>\n",
              "      <td>0.000000</td>\n",
              "      <td>0.000000</td>\n",
              "      <td>0.000000</td>\n",
              "      <td>0.000000</td>\n",
              "      <td>0.000000</td>\n",
              "      <td>0.000000</td>\n",
              "      <td>0.000000</td>\n",
              "      <td>0.000628</td>\n",
              "      <td>1.000000</td>\n",
              "      <td>0.767000</td>\n",
              "      <td>0.000000</td>\n",
              "      <td>0.000000</td>\n",
              "      <td>0.000873</td>\n",
              "      <td>0.000000</td>\n",
              "      <td>0.000000</td>\n",
              "      <td>0.000000</td>\n",
              "      <td>0.000000</td>\n",
              "      <td>0.000000</td>\n",
              "      <td>0.000000</td>\n",
              "      <td>0.000000</td>\n",
              "      <td>0.000000</td>\n",
              "    </tr>\n",
              "    <tr>\n",
              "      <th>25%</th>\n",
              "      <td>3.547567e+07</td>\n",
              "      <td>2.000000</td>\n",
              "      <td>1.000000</td>\n",
              "      <td>0.000000</td>\n",
              "      <td>0.000000</td>\n",
              "      <td>0.000000</td>\n",
              "      <td>0.000000</td>\n",
              "      <td>0.000000</td>\n",
              "      <td>0.000000</td>\n",
              "      <td>0.000000</td>\n",
              "      <td>0.000000</td>\n",
              "      <td>0.199768</td>\n",
              "      <td>5.651071</td>\n",
              "      <td>30.447950</td>\n",
              "      <td>0.000000</td>\n",
              "      <td>0.000000</td>\n",
              "      <td>0.040816</td>\n",
              "      <td>0.000000</td>\n",
              "      <td>0.000000</td>\n",
              "      <td>0.002243</td>\n",
              "      <td>0.000000</td>\n",
              "      <td>0.000000</td>\n",
              "      <td>0.000000</td>\n",
              "      <td>0.000000</td>\n",
              "      <td>0.000000</td>\n",
              "    </tr>\n",
              "    <tr>\n",
              "      <th>50%</th>\n",
              "      <td>4.344565e+07</td>\n",
              "      <td>2.000000</td>\n",
              "      <td>1.000000</td>\n",
              "      <td>0.000000</td>\n",
              "      <td>0.000000</td>\n",
              "      <td>0.000000</td>\n",
              "      <td>0.000000</td>\n",
              "      <td>0.000000</td>\n",
              "      <td>0.000000</td>\n",
              "      <td>0.000000</td>\n",
              "      <td>0.000000</td>\n",
              "      <td>0.329771</td>\n",
              "      <td>8.500000</td>\n",
              "      <td>62.443638</td>\n",
              "      <td>0.000000</td>\n",
              "      <td>0.000000</td>\n",
              "      <td>0.125000</td>\n",
              "      <td>0.000000</td>\n",
              "      <td>0.003968</td>\n",
              "      <td>0.015789</td>\n",
              "      <td>0.000000</td>\n",
              "      <td>0.011628</td>\n",
              "      <td>0.014493</td>\n",
              "      <td>0.015873</td>\n",
              "      <td>0.000000</td>\n",
              "    </tr>\n",
              "    <tr>\n",
              "      <th>75%</th>\n",
              "      <td>5.370713e+07</td>\n",
              "      <td>2.000000</td>\n",
              "      <td>1.000000</td>\n",
              "      <td>0.008621</td>\n",
              "      <td>0.000000</td>\n",
              "      <td>0.000000</td>\n",
              "      <td>0.000000</td>\n",
              "      <td>0.000000</td>\n",
              "      <td>0.000000</td>\n",
              "      <td>0.000000</td>\n",
              "      <td>0.147100</td>\n",
              "      <td>0.460882</td>\n",
              "      <td>13.079052</td>\n",
              "      <td>112.135575</td>\n",
              "      <td>0.000000</td>\n",
              "      <td>0.009009</td>\n",
              "      <td>0.364427</td>\n",
              "      <td>0.000000</td>\n",
              "      <td>0.060000</td>\n",
              "      <td>0.058333</td>\n",
              "      <td>0.000000</td>\n",
              "      <td>0.117647</td>\n",
              "      <td>0.117647</td>\n",
              "      <td>0.125000</td>\n",
              "      <td>178.714286</td>\n",
              "    </tr>\n",
              "    <tr>\n",
              "      <th>max</th>\n",
              "      <td>7.904176e+07</td>\n",
              "      <td>3.000000</td>\n",
              "      <td>2.000000</td>\n",
              "      <td>685.277778</td>\n",
              "      <td>4.000000</td>\n",
              "      <td>4.000000</td>\n",
              "      <td>130.000000</td>\n",
              "      <td>2.333333</td>\n",
              "      <td>1.692308</td>\n",
              "      <td>12.500000</td>\n",
              "      <td>65.800000</td>\n",
              "      <td>1.000000</td>\n",
              "      <td>48286.500000</td>\n",
              "      <td>1600.786667</td>\n",
              "      <td>549.000000</td>\n",
              "      <td>16.915254</td>\n",
              "      <td>34.030303</td>\n",
              "      <td>4.575000</td>\n",
              "      <td>8.897959</td>\n",
              "      <td>8.672727</td>\n",
              "      <td>12.440000</td>\n",
              "      <td>17.060606</td>\n",
              "      <td>24.122449</td>\n",
              "      <td>22.096774</td>\n",
              "      <td>28474.333330</td>\n",
              "    </tr>\n",
              "  </tbody>\n",
              "</table>\n",
              "</div>\n",
              "      <button class=\"colab-df-convert\" onclick=\"convertToInteractive('df-d7c4ab64-b761-422c-9ac2-0d2c0c3d61cd')\"\n",
              "              title=\"Convert this dataframe to an interactive table.\"\n",
              "              style=\"display:none;\">\n",
              "        \n",
              "  <svg xmlns=\"http://www.w3.org/2000/svg\" height=\"24px\"viewBox=\"0 0 24 24\"\n",
              "       width=\"24px\">\n",
              "    <path d=\"M0 0h24v24H0V0z\" fill=\"none\"/>\n",
              "    <path d=\"M18.56 5.44l.94 2.06.94-2.06 2.06-.94-2.06-.94-.94-2.06-.94 2.06-2.06.94zm-11 1L8.5 8.5l.94-2.06 2.06-.94-2.06-.94L8.5 2.5l-.94 2.06-2.06.94zm10 10l.94 2.06.94-2.06 2.06-.94-2.06-.94-.94-2.06-.94 2.06-2.06.94z\"/><path d=\"M17.41 7.96l-1.37-1.37c-.4-.4-.92-.59-1.43-.59-.52 0-1.04.2-1.43.59L10.3 9.45l-7.72 7.72c-.78.78-.78 2.05 0 2.83L4 21.41c.39.39.9.59 1.41.59.51 0 1.02-.2 1.41-.59l7.78-7.78 2.81-2.81c.8-.78.8-2.07 0-2.86zM5.41 20L4 18.59l7.72-7.72 1.47 1.35L5.41 20z\"/>\n",
              "  </svg>\n",
              "      </button>\n",
              "      \n",
              "  <style>\n",
              "    .colab-df-container {\n",
              "      display:flex;\n",
              "      flex-wrap:wrap;\n",
              "      gap: 12px;\n",
              "    }\n",
              "\n",
              "    .colab-df-convert {\n",
              "      background-color: #E8F0FE;\n",
              "      border: none;\n",
              "      border-radius: 50%;\n",
              "      cursor: pointer;\n",
              "      display: none;\n",
              "      fill: #1967D2;\n",
              "      height: 32px;\n",
              "      padding: 0 0 0 0;\n",
              "      width: 32px;\n",
              "    }\n",
              "\n",
              "    .colab-df-convert:hover {\n",
              "      background-color: #E2EBFA;\n",
              "      box-shadow: 0px 1px 2px rgba(60, 64, 67, 0.3), 0px 1px 3px 1px rgba(60, 64, 67, 0.15);\n",
              "      fill: #174EA6;\n",
              "    }\n",
              "\n",
              "    [theme=dark] .colab-df-convert {\n",
              "      background-color: #3B4455;\n",
              "      fill: #D2E3FC;\n",
              "    }\n",
              "\n",
              "    [theme=dark] .colab-df-convert:hover {\n",
              "      background-color: #434B5C;\n",
              "      box-shadow: 0px 1px 3px 1px rgba(0, 0, 0, 0.15);\n",
              "      filter: drop-shadow(0px 1px 2px rgba(0, 0, 0, 0.3));\n",
              "      fill: #FFFFFF;\n",
              "    }\n",
              "  </style>\n",
              "\n",
              "      <script>\n",
              "        const buttonEl =\n",
              "          document.querySelector('#df-d7c4ab64-b761-422c-9ac2-0d2c0c3d61cd button.colab-df-convert');\n",
              "        buttonEl.style.display =\n",
              "          google.colab.kernel.accessAllowed ? 'block' : 'none';\n",
              "\n",
              "        async function convertToInteractive(key) {\n",
              "          const element = document.querySelector('#df-d7c4ab64-b761-422c-9ac2-0d2c0c3d61cd');\n",
              "          const dataTable =\n",
              "            await google.colab.kernel.invokeFunction('convertToInteractive',\n",
              "                                                     [key], {});\n",
              "          if (!dataTable) return;\n",
              "\n",
              "          const docLinkHtml = 'Like what you see? Visit the ' +\n",
              "            '<a target=\"_blank\" href=https://colab.research.google.com/notebooks/data_table.ipynb>data table notebook</a>'\n",
              "            + ' to learn more about interactive tables.';\n",
              "          element.innerHTML = '';\n",
              "          dataTable['output_type'] = 'display_data';\n",
              "          await google.colab.output.renderOutput(dataTable, element);\n",
              "          const docLink = document.createElement('div');\n",
              "          docLink.innerHTML = docLinkHtml;\n",
              "          element.appendChild(docLink);\n",
              "        }\n",
              "      </script>\n",
              "    </div>\n",
              "  </div>\n",
              "  "
            ],
            "text/plain": [
              "             userId          tier  ...  slot4_trails_watched_per_day         avgt2\n",
              "count  5.432000e+04  54320.000000  ...                  54320.000000  54320.000000\n",
              "mean   4.248125e+07      1.976105  ...                      0.160141    158.286032\n",
              "std    1.818136e+07      0.431142  ...                      0.502513    920.210984\n",
              "min    3.500000e+01      1.000000  ...                      0.000000      0.000000\n",
              "25%    3.547567e+07      2.000000  ...                      0.000000      0.000000\n",
              "50%    4.344565e+07      2.000000  ...                      0.015873      0.000000\n",
              "75%    5.370713e+07      2.000000  ...                      0.125000    178.714286\n",
              "max    7.904176e+07      3.000000  ...                     22.096774  28474.333330\n",
              "\n",
              "[8 rows x 25 columns]"
            ]
          },
          "metadata": {},
          "execution_count": 76
        }
      ]
    },
    {
      "cell_type": "code",
      "source": [
        "#Getting coloumn name\n",
        "data.columns\n"
      ],
      "metadata": {
        "id": "FVFzcMK8ckn8",
        "colab": {
          "base_uri": "https://localhost:8080/"
        },
        "outputId": "291bb2e7-d242-4b90-aa57-cc220d4f202d"
      },
      "execution_count": null,
      "outputs": [
        {
          "output_type": "execute_result",
          "data": {
            "text/plain": [
              "Index(['userId', 'tier', 'gender', 'following_rate', 'followers_avg_age',\n",
              "       'following_avg_age', 'max_repetitive_punc',\n",
              "       'num_of_hashtags_per_action', 'emoji_count_per_action',\n",
              "       'punctuations_per_action', 'number_of_words_per_action',\n",
              "       'avgCompletion', 'avgTimeSpent', 'avgDuration', 'avgComments',\n",
              "       'creations', 'content_views', 'num_of_comments',\n",
              "       'weekends_trails_watched_per_day', 'weekdays_trails_watched_per_day',\n",
              "       'slot1_trails_watched_per_day', 'slot2_trails_watched_per_day',\n",
              "       'slot3_trails_watched_per_day', 'slot4_trails_watched_per_day',\n",
              "       'avgt2'],\n",
              "      dtype='object')"
            ]
          },
          "metadata": {},
          "execution_count": 77
        }
      ]
    },
    {
      "cell_type": "code",
      "source": [
        "data1 = data.select_dtypes(include = 'float')\n",
        "data1.columns"
      ],
      "metadata": {
        "id": "HZ0TmqEW06bX",
        "colab": {
          "base_uri": "https://localhost:8080/"
        },
        "outputId": "1121a1c1-f8e6-40ca-9459-be7f0f79f6e0"
      },
      "execution_count": null,
      "outputs": [
        {
          "output_type": "execute_result",
          "data": {
            "text/plain": [
              "Index(['following_rate', 'followers_avg_age', 'following_avg_age',\n",
              "       'num_of_hashtags_per_action', 'emoji_count_per_action',\n",
              "       'punctuations_per_action', 'number_of_words_per_action',\n",
              "       'avgCompletion', 'avgTimeSpent', 'avgDuration', 'creations',\n",
              "       'content_views', 'num_of_comments', 'weekends_trails_watched_per_day',\n",
              "       'weekdays_trails_watched_per_day', 'slot1_trails_watched_per_day',\n",
              "       'slot2_trails_watched_per_day', 'slot3_trails_watched_per_day',\n",
              "       'slot4_trails_watched_per_day', 'avgt2'],\n",
              "      dtype='object')"
            ]
          },
          "metadata": {},
          "execution_count": 78
        }
      ]
    },
    {
      "cell_type": "markdown",
      "source": [
        "#### Checking for outliers"
      ],
      "metadata": {
        "id": "vcwQtxcssIHq"
      }
    },
    {
      "cell_type": "code",
      "source": [
        "#Boxplot to find out outlier\n",
        "plt.boxplot(data['tier'])\n",
        "plt.title('Boxplot of Tier - City ')"
      ],
      "metadata": {
        "id": "-lMaA4O9ghmh",
        "colab": {
          "base_uri": "https://localhost:8080/",
          "height": 298
        },
        "outputId": "67e3cd43-1397-4257-8bc8-a5950a3fd0dc"
      },
      "execution_count": null,
      "outputs": [
        {
          "output_type": "execute_result",
          "data": {
            "text/plain": [
              "Text(0.5, 1.0, 'Boxplot of Tier - City ')"
            ]
          },
          "metadata": {},
          "execution_count": 79
        },
        {
          "output_type": "display_data",
          "data": {
            "image/png": "[encoded data removed]",
            "text/plain": [
              "<Figure size 432x288 with 1 Axes>"
            ]
          },
          "metadata": {
            "needs_background": "light"
          }
        }
      ]
    },
    {
      "cell_type": "code",
      "source": [
        "\n",
        "\n",
        "\n",
        "#Boxplot to find out outlier\n",
        "plt.boxplot(data['gender'])\n",
        "plt.title('Boxplot of Gender ')"
      ],
      "metadata": {
        "id": "6Tl8DPgGgun7",
        "colab": {
          "base_uri": "https://localhost:8080/",
          "height": 298
        },
        "outputId": "e756eda2-6658-4754-c06f-b677075aad70"
      },
      "execution_count": null,
      "outputs": [
        {
          "output_type": "execute_result",
          "data": {
            "text/plain": [
              "Text(0.5, 1.0, 'Boxplot of Gender ')"
            ]
          },
          "metadata": {},
          "execution_count": 80
        },
        {
          "output_type": "display_data",
          "data": {
            "image/png": "[encoded data removed]",
            "text/plain": [
              "<Figure size 432x288 with 1 Axes>"
            ]
          },
          "metadata": {
            "needs_background": "light"
          }
        }
      ]
    },
    {
      "cell_type": "code",
      "source": [
        "#Boxplot to find out outlier\n",
        "plt.boxplot(data['following_rate'])\n",
        "plt.title('Boxplot of Followers Rate ')"
      ],
      "metadata": {
        "id": "kBPi4LmmggcV",
        "colab": {
          "base_uri": "https://localhost:8080/",
          "height": 298
        },
        "outputId": "2e8ec4eb-cee3-4b4e-8fb4-77386e741c78"
      },
      "execution_count": null,
      "outputs": [
        {
          "output_type": "execute_result",
          "data": {
            "text/plain": [
              "Text(0.5, 1.0, 'Boxplot of Followers Rate ')"
            ]
          },
          "metadata": {},
          "execution_count": 81
        },
        {
          "output_type": "display_data",
          "data": {
            "image/png": "[encoded data removed]",
            "text/plain": [
              "<Figure size 432x288 with 1 Axes>"
            ]
          },
          "metadata": {
            "needs_background": "light"
          }
        }
      ]
    },
    {
      "cell_type": "code",
      "source": [
        "#Boxplot to find out outlier\n",
        "plt.boxplot(data['avgCompletion'])\n",
        "plt.title('Boxplot of Completion Rate ')"
      ],
      "metadata": {
        "id": "STB8o8PWg82O",
        "colab": {
          "base_uri": "https://localhost:8080/",
          "height": 298
        },
        "outputId": "8d3643ec-098a-4be9-fee7-3511b071c8d3"
      },
      "execution_count": null,
      "outputs": [
        {
          "output_type": "execute_result",
          "data": {
            "text/plain": [
              "Text(0.5, 1.0, 'Boxplot of Completion Rate ')"
            ]
          },
          "metadata": {},
          "execution_count": 82
        },
        {
          "output_type": "display_data",
          "data": {
            "image/png": "[encoded data removed]",
            "text/plain": [
              "<Figure size 432x288 with 1 Axes>"
            ]
          },
          "metadata": {
            "needs_background": "light"
          }
        }
      ]
    },
    {
      "cell_type": "code",
      "source": [
        "#Outlier present so we need to eliminate the same\n",
        "Q1=np.percentile(data['avgCompletion'], 25, interpolation='midpoint')\n",
        "Q2=np.percentile(data['avgCompletion'], 50, interpolation='midpoint')\n",
        "Q3=np.percentile(data['avgCompletion'], 75, interpolation='midpoint')"
      ],
      "metadata": {
        "id": "Y-9z5R1ghJFQ"
      },
      "execution_count": null,
      "outputs": []
    },
    {
      "cell_type": "code",
      "source": [
        "IQR=Q3-Q1"
      ],
      "metadata": {
        "id": "BbquWseKxxnB"
      },
      "execution_count": null,
      "outputs": []
    },
    {
      "cell_type": "code",
      "source": [
        "low_limit=Q1-1.5*IQR\n",
        "upper_limit=Q3+1.5*IQR\n",
        "\n"
      ],
      "metadata": {
        "id": "I_ItErcUim5e"
      },
      "execution_count": null,
      "outputs": []
    },
    {
      "cell_type": "code",
      "source": [
        "#Finding the Outliers in the Spirit_servings\n",
        "outlier=[]\n",
        "for x in data['avgCompletion']:\n",
        "  if((x>upper_limit) or (x<low_limit)):\n",
        "    outlier.append(x)\n",
        "print(outlier)"
      ],
      "metadata": {
        "id": "UxO3FAPZip8d",
        "colab": {
          "base_uri": "https://localhost:8080/"
        },
        "outputId": "642d4cb2-1f21-4169-aba2-89e8382e2a74"
      },
      "execution_count": null,
      "outputs": [
        {
          "output_type": "stream",
          "name": "stdout",
          "text": [
            "[0.90116172, 0.9158580540000001, 1.0, 0.85756943, 1.0, 1.0, 1.0, 1.0, 0.9453262790000001, 1.0, 1.0, 1.0, 1.0, 1.0, 0.930172287, 1.0, 1.0, 1.0, 0.885851107, 1.0, 1.0, 0.943396226, 0.884977215, 1.0, 0.91833968, 0.9605263159999999, 0.8702905740000001, 1.0, 0.8770004220000001, 1.0, 1.0, 0.9358288770000001, 1.0, 0.9951475540000001, 0.883605599, 1.0, 1.0, 1.0, 0.8981420040000001, 1.0, 1.0, 0.864739835, 1.0, 1.0, 1.0, 1.0, 1.0, 0.941960597, 1.0, 1.0, 0.892857143, 1.0, 1.0, 1.0, 0.86827957, 1.0, 1.0, 1.0, 0.865691489, 1.0, 0.893333333, 0.864677907, 0.8626410090000001, 1.0, 1.0, 0.9149815459999999, 0.931497615, 0.9896467720000001, 1.0, 0.875987842, 0.8696409279999999, 1.0, 1.0, 1.0, 0.933369021, 1.0, 1.0, 1.0, 1.0, 0.928759894, 0.92989418, 1.0, 0.8570221640000001, 1.0, 1.0, 0.9002770379999999, 1.0, 0.994722955, 0.8643617020000001, 1.0, 1.0, 1.0, 1.0, 0.8968253970000001, 0.903601923, 0.885139821, 1.0, 0.927198291, 0.9731273359999999, 0.9844961240000001, 1.0, 1.0, 0.87135857, 0.9236137240000001, 1.0, 0.867924528, 0.997883993, 0.8981420040000001, 0.969641698, 1.0, 0.869296875, 1.0, 0.918308279, 0.92348285, 0.9934714729999999, 1.0, 1.0, 0.992063492, 1.0, 1.0, 0.899345898, 0.88921451, 1.0, 1.0, 0.943062596, 1.0, 0.9405794609999999, 1.0, 0.857565136, 0.9375, 1.0, 1.0, 0.9186967109999999, 0.89869281, 0.996031746, 0.909878683, 0.884553822, 1.0, 1.0, 1.0, 1.0, 0.8604712729999999, 1.0, 1.0, 1.0, 0.8722084370000001, 0.893576503, 0.861659837, 0.9697265629999999, 0.980549199, 1.0, 0.861269712, 0.9090909090000001, 1.0, 1.0, 1.0, 1.0, 1.0, 0.8642500240000001, 1.0, 1.0, 1.0, 1.0, 1.0, 0.85978836, 1.0, 0.857519789, 1.0, 1.0, 1.0, 1.0, 1.0, 1.0, 0.8901203529999999, 0.945355191, 1.0, 1.0, 1.0, 1.0, 0.893429487, 1.0, 1.0, 0.870655429, 0.858504135, 1.0, 1.0, 1.0, 1.0, 1.0, 1.0, 1.0, 1.0, 1.0, 1.0, 0.8801366209999999, 0.863566781, 1.0, 1.0, 0.8653888670000001, 1.0, 1.0, 1.0, 1.0, 1.0, 0.8551271999999999, 1.0, 0.9642857140000001, 0.997512438, 1.0, 1.0, 1.0, 1.0, 1.0, 1.0, 0.881077115, 1.0, 1.0, 0.947747828, 1.0, 1.0, 1.0, 0.912128363, 0.962962963, 0.961538462, 1.0, 0.869565217, 1.0, 0.9581451670000001, 1.0, 1.0, 0.921508665, 1.0, 1.0, 0.8978779840000001, 1.0, 0.904326154, 0.9259259259999999, 1.0, 1.0, 1.0, 1.0, 1.0, 1.0, 0.970430108, 0.8978779840000001, 0.94713785, 0.953061224, 0.991178435, 0.941507312, 0.94881122, 1.0, 0.99127114, 0.928897146, 1.0, 1.0, 0.921310503, 0.855808418, 0.9541698479999999, 1.0, 1.0, 1.0, 0.92614031, 1.0, 0.888450985, 1.0, 1.0, 0.99469496, 0.995644057, 1.0, 1.0, 0.955240648, 1.0, 1.0, 0.990818416, 0.9006242959999999, 1.0, 1.0, 0.8857849590000001, 1.0, 1.0, 0.8584229390000001, 0.894445415, 1.0, 1.0, 1.0, 1.0, 1.0, 0.9785105270000001, 1.0, 1.0, 0.92450824, 0.9480354879999999, 1.0, 1.0, 1.0, 1.0, 0.9831460670000001, 0.862410608, 0.8756481429999999, 0.94873502, 0.8620102209999999, 0.948509485, 0.89435337, 1.0, 1.0, 1.0, 0.8560819690000001, 1.0, 0.925822323, 1.0, 0.877104377, 0.963514902, 1.0, 1.0, 1.0, 1.0, 1.0, 1.0, 1.0, 0.884955752, 0.933333333, 1.0, 1.0, 1.0, 0.979155673, 0.966798926, 0.857519789, 1.0, 0.974431818, 0.89595875, 0.980392157, 1.0, 1.0, 0.907469264, 0.85978836, 1.0, 0.858766542, 1.0, 0.9599434490000001, 0.912037037, 1.0, 0.975725845, 1.0, 1.0, 0.903614458, 0.9103641459999999, 1.0, 1.0, 0.9929254059999999, 1.0, 0.894736842, 0.901209677, 0.86277427, 1.0, 1.0, 1.0, 1.0, 1.0, 0.9237349840000001, 1.0, 1.0, 0.927333748, 0.8838122559999999, 0.970618034, 0.9459962759999999, 1.0, 1.0, 0.933333333, 1.0, 0.9142204829999999, 1.0, 0.913533835, 1.0, 0.924763855, 1.0, 0.93867458, 1.0, 1.0, 1.0, 1.0, 0.907334358, 1.0, 0.8749732159999999, 0.856331066, 0.902643456, 0.92989418, 1.0, 1.0, 1.0, 0.8621385659999999, 1.0, 1.0, 1.0, 0.873421123, 0.9915254240000001, 1.0, 0.926225988, 0.9641909809999999, 1.0, 0.900093371, 0.929447853, 1.0, 0.865384615, 1.0, 1.0, 0.857142857, 0.8688435729999999, 1.0, 0.9097162129999999, 0.8962468459999999, 1.0, 0.8721957229999999, 1.0, 1.0, 1.0, 1.0, 1.0, 1.0, 0.8527169029999999, 0.922818792, 1.0, 1.0, 0.862961247, 1.0, 1.0, 1.0, 0.863756614, 1.0, 1.0, 1.0, 0.9887500859999999, 0.8818470159999999, 1.0, 1.0, 1.0, 1.0, 0.914152747, 0.92208391, 1.0, 1.0, 1.0, 0.855297158, 0.930562326, 1.0, 1.0, 0.996876454, 1.0, 0.9046499, 1.0, 0.8666666670000001, 0.8763029240000001, 0.893706925, 1.0, 0.947889182, 0.9207420009999999, 0.902693966, 1.0, 0.954022989, 1.0, 0.932090546, 1.0, 0.8632911390000001, 0.939157695, 0.946969697, 0.962487642, 0.960727448, 1.0, 0.9409039920000001, 0.9312169309999999, 0.9124740490000001, 1.0, 1.0, 1.0, 0.8971923159999999, 0.994530085, 1.0, 0.940225035, 0.931848316, 1.0, 1.0, 0.898204681, 0.888195365, 1.0, 0.92348285, 1.0, 0.966666667, 1.0, 1.0, 1.0, 0.862937385, 1.0, 1.0, 0.99469496, 1.0, 1.0, 1.0, 0.904645473, 0.871329445, 0.928853755, 0.997340426, 0.965331611, 0.86101083, 1.0, 0.882479597, 1.0, 0.9307511740000001, 1.0, 1.0, 0.990196078, 0.917112299, 1.0, 1.0, 1.0, 0.871598639, 0.9717314490000001, 1.0, 0.9765625, 1.0, 1.0, 0.91881178, 1.0, 0.903614458, 1.0, 1.0, 1.0, 1.0, 1.0, 0.938172456, 0.943929712, 0.9802166999999999, 1.0, 1.0, 1.0, 0.870948594, 1.0, 1.0, 1.0, 1.0, 0.9979736579999999, 0.884518868, 1.0, 1.0, 1.0, 1.0, 0.92348285, 1.0, 0.9081827259999999, 1.0, 1.0, 0.8749972970000001, 1.0, 0.891568395, 1.0, 1.0, 1.0, 0.877602942, 0.945072082, 0.886188007, 1.0, 1.0, 1.0, 0.865384615, 1.0, 1.0, 1.0, 1.0, 1.0, 0.9321808509999999, 0.925735445, 0.857519789, 0.946677867, 1.0, 0.8883106190000001, 0.9631939, 1.0, 1.0, 1.0, 1.0, 0.860791937, 0.9833333329999999, 0.907998228, 1.0, 1.0, 1.0, 1.0, 1.0, 1.0, 0.931026405, 1.0, 0.949346405, 1.0, 1.0, 0.8550995020000001, 0.940860215, 1.0, 0.944521377, 1.0, 0.858039555, 0.8551136359999999, 0.853089495, 0.982961992, 1.0, 0.9335546570000001, 1.0, 1.0, 1.0, 0.92815741, 1.0, 0.9157302359999999, 0.888716785, 0.8699186990000001, 0.9259259259999999, 0.882310135, 1.0, 1.0, 1.0, 1.0, 0.9054497159999999, 1.0, 0.87768681, 1.0, 1.0, 0.940860215, 1.0, 1.0, 1.0, 1.0, 0.878242379, 1.0, 0.9844961240000001, 1.0, 1.0, 1.0, 1.0, 0.949346405, 1.0, 0.943989071, 0.872778614, 1.0, 1.0, 1.0, 1.0, 1.0, 1.0, 1.0, 0.9646000920000001, 0.9223847959999999, 1.0, 0.926307035, 0.985151841, 0.85978836, 1.0, 1.0, 1.0, 0.904166667, 1.0, 0.9475683890000001, 0.888492208, 1.0, 0.9308510640000001, 1.0, 0.9675251770000001, 1.0, 1.0, 1.0, 0.885558583, 0.982142857, 1.0, 1.0, 1.0, 0.9834385440000001, 0.895927602, 0.944340796, 1.0, 1.0, 1.0, 0.920542636, 0.860337777, 0.924595031, 0.948938992, 1.0, 0.8620689659999999, 1.0, 0.920673077, 1.0, 1.0, 0.8638211379999999, 1.0, 0.915343915, 1.0, 0.9641909809999999, 0.9281536090000001, 1.0, 0.904239215, 1.0, 0.957480069, 1.0, 0.9535323, 1.0, 1.0, 1.0, 0.886120951, 0.8666666670000001, 1.0, 1.0, 1.0, 1.0, 1.0, 1.0, 1.0, 1.0, 1.0, 0.931034483, 1.0, 0.854566607, 0.948151105, 0.8573492640000001, 1.0, 1.0, 0.915492958, 1.0, 1.0, 1.0, 0.882194248, 1.0, 1.0, 0.855555556, 0.93877551, 1.0, 1.0, 1.0, 1.0, 0.8808411209999999, 0.854588555, 0.942477876, 1.0, 0.950814961, 0.8626410090000001, 1.0, 1.0, 1.0, 1.0, 0.9308510640000001, 1.0, 1.0, 0.8711656440000001, 0.8666666670000001, 0.8554856270000001, 0.912162162, 0.9493670890000001, 1.0, 1.0, 1.0, 0.8928501040000001, 1.0, 1.0, 0.933333333, 0.9391561009999999, 0.877040765, 1.0, 1.0, 0.911021965, 1.0, 1.0, 0.8616220659999999, 0.965425532, 0.855229995, 1.0, 0.960330945, 0.879562367, 0.98442623, 1.0, 1.0, 1.0, 0.987841945, 1.0, 1.0, 0.8586766109999999, 1.0, 0.9259259259999999, 1.0, 1.0, 0.955114347, 0.924274789, 1.0, 0.909737144, 1.0, 0.916665015, 0.980870712, 0.9061007959999999, 0.9259259259999999, 0.952302632, 1.0, 0.9145540529999999, 1.0, 0.882066052, 0.90156071, 0.9938382029999999, 0.921308866, 0.9025270759999999, 0.853969414, 1.0, 1.0, 1.0, 1.0, 1.0, 0.9226190479999999, 1.0, 0.997672098, 1.0, 1.0, 0.9266334940000001, 0.96502047, 1.0, 1.0, 1.0, 0.9344884, 1.0, 1.0, 0.9988242, 0.893271595, 0.97594246, 1.0, 1.0, 1.0, 0.994305342, 1.0, 0.962962963, 0.95204241, 1.0, 0.89241054, 0.8886690340000001, 1.0, 0.980466098, 0.8559641640000001, 1.0, 1.0, 1.0, 1.0, 0.86329588, 1.0, 1.0, 0.997391438, 0.873337021, 0.923295455, 1.0, 0.9358288770000001, 0.975975976, 1.0, 1.0, 0.970070423, 1.0, 0.858610062, 0.8857121170000001, 0.967680025, 1.0, 1.0, 1.0, 0.907051693, 0.8639179690000001, 1.0, 0.910808258, 0.92879257, 1.0, 0.854133165, 0.8793860809999999, 1.0, 1.0, 1.0, 0.912863071, 0.95646438, 1.0, 0.939351811, 1.0, 0.9426048570000001, 1.0, 1.0, 0.953262787, 0.892857143, 1.0, 1.0, 1.0, 1.0, 0.905614812, 0.892857143, 0.885096165, 0.902441341, 1.0, 1.0, 1.0, 1.0, 0.856396965, 1.0, 1.0, 1.0, 1.0, 1.0, 0.872378323, 0.863957205, 1.0, 0.9198138840000001, 0.8693257959999999, 1.0, 0.892857143, 1.0, 1.0, 0.9375, 1.0, 1.0, 1.0, 0.9913044520000001, 0.934228188, 0.9679144390000001, 1.0, 1.0, 1.0, 1.0, 0.88576414, 1.0, 0.908914729, 1.0, 1.0, 0.9677483370000001, 0.981349658, 1.0, 1.0, 1.0, 0.876168224, 1.0, 1.0, 1.0, 1.0, 1.0, 0.884228688, 1.0, 1.0, 1.0, 1.0]\n"
          ]
        }
      ]
    },
    {
      "cell_type": "code",
      "source": [
        "# We have all the upper limit values as outliers\n",
        "# finding the index values of outlier\n",
        "ind1 = data['avgDuration'] > upper_limit\n",
        "data.loc[ind1].index"
      ],
      "metadata": {
        "id": "CXz0AJlWAT3s",
        "colab": {
          "base_uri": "https://localhost:8080/"
        },
        "outputId": "2b1572c1-d4fb-4392-a794-52d7f5c08e8f"
      },
      "execution_count": null,
      "outputs": [
        {
          "output_type": "execute_result",
          "data": {
            "text/plain": [
              "Int64Index([    0,     1,     2,     3,     4,     5,     6,     7,     8,\n",
              "                9,\n",
              "            ...\n",
              "            54310, 54311, 54312, 54313, 54314, 54315, 54316, 54317, 54318,\n",
              "            54319],\n",
              "           dtype='int64', length=54319)"
            ]
          },
          "metadata": {},
          "execution_count": 87
        }
      ]
    },
    {
      "cell_type": "code",
      "source": [
        "#Droping the values\n",
        "data.drop(data.loc[ind1].index, inplace=True)"
      ],
      "metadata": {
        "id": "xiShFdheBzjR"
      },
      "execution_count": null,
      "outputs": []
    },
    {
      "cell_type": "code",
      "source": [
        "#Boxplot to find out outlier\n",
        "plt.boxplot(data['avgCompletion'])\n",
        "plt.title('Boxplot of Completion Rate - AFTER REMOVAL ')"
      ],
      "metadata": {
        "id": "Eb40k3F3jcg8",
        "colab": {
          "base_uri": "https://localhost:8080/",
          "height": 298
        },
        "outputId": "e24b84e5-f48a-44ea-8721-f439f9da0970"
      },
      "execution_count": null,
      "outputs": [
        {
          "output_type": "execute_result",
          "data": {
            "text/plain": [
              "Text(0.5, 1.0, 'Boxplot of Completion Rate - AFTER REMOVAL ')"
            ]
          },
          "metadata": {},
          "execution_count": 89
        },
        {
          "output_type": "display_data",
          "data": {
            "image/png": "[encoded data removed]",
            "text/plain": [
              "<Figure size 432x288 with 1 Axes>"
            ]
          },
          "metadata": {
            "needs_background": "light"
          }
        }
      ]
    },
    {
      "cell_type": "code",
      "source": [
        "#Boxplot to find out outlier\n",
        "plt.boxplot(data['avgTimeSpent'])\n",
        "plt.title('Boxplot of Average Rate of Time ')"
      ],
      "metadata": {
        "id": "ZvX47WaBjfgG",
        "colab": {
          "base_uri": "https://localhost:8080/",
          "height": 298
        },
        "outputId": "efcd649f-d95b-4517-f826-cb15cc612fa6"
      },
      "execution_count": null,
      "outputs": [
        {
          "output_type": "execute_result",
          "data": {
            "text/plain": [
              "Text(0.5, 1.0, 'Boxplot of Average Rate of Time ')"
            ]
          },
          "metadata": {},
          "execution_count": 90
        },
        {
          "output_type": "display_data",
          "data": {
            "image/png": "[encoded data removed]",
            "text/plain": [
              "<Figure size 432x288 with 1 Axes>"
            ]
          },
          "metadata": {
            "needs_background": "light"
          }
        }
      ]
    },
    {
      "cell_type": "code",
      "source": [
        "#Boxplot to find out outlier\n",
        "plt.boxplot(data['avgDuration'])\n",
        "plt.title('Boxplot of Average Duration of Time ')"
      ],
      "metadata": {
        "id": "eVK7oFRajweX",
        "colab": {
          "base_uri": "https://localhost:8080/",
          "height": 298
        },
        "outputId": "235e4771-1083-43a5-db87-d44896d36fa8"
      },
      "execution_count": null,
      "outputs": [
        {
          "output_type": "execute_result",
          "data": {
            "text/plain": [
              "Text(0.5, 1.0, 'Boxplot of Average Duration of Time ')"
            ]
          },
          "metadata": {},
          "execution_count": 91
        },
        {
          "output_type": "display_data",
          "data": {
            "image/png": "[encoded data removed]",
            "text/plain": [
              "<Figure size 432x288 with 1 Axes>"
            ]
          },
          "metadata": {
            "needs_background": "light"
          }
        }
      ]
    },
    {
      "cell_type": "code",
      "source": [
        "#Outlier present so we need to eliminate the same\n",
        "Q1=np.percentile(data['avgDuration'], 25, interpolation='higher')\n",
        "Q2=np.percentile(data['avgDuration'], 50, interpolation='higher')\n",
        "Q3=np.percentile(data['avgDuration'], 75, interpolation='higher')"
      ],
      "metadata": {
        "id": "OxKMa3IzkATd"
      },
      "execution_count": null,
      "outputs": []
    },
    {
      "cell_type": "code",
      "source": [
        "IQR=Q3-Q1\n"
      ],
      "metadata": {
        "id": "OcC4o-rtkJ8t"
      },
      "execution_count": null,
      "outputs": []
    },
    {
      "cell_type": "code",
      "source": [
        "low_limit=Q1-1.95*IQR\n",
        "upper_limit=Q3+1.95*IQR\n",
        "\n"
      ],
      "metadata": {
        "id": "XP5FqzeWkMJC"
      },
      "execution_count": null,
      "outputs": []
    },
    {
      "cell_type": "code",
      "source": [
        "#Finding the Outliers in the Spirit_servings\n",
        "outlier=[]\n",
        "for x in data['avgDuration']:\n",
        "  if((x>upper_limit) or (x<low_limit)):\n",
        "    outlier.append(x)\n"
      ],
      "metadata": {
        "id": "T2EKxKJGkVsa"
      },
      "execution_count": null,
      "outputs": []
    },
    {
      "cell_type": "code",
      "source": [
        "# We have all the upper limit values as outliers\n",
        "# finding the index values of outlier\n",
        "ind1 = data['avgDuration'] > upper_limit\n",
        "data.loc[ind1].index"
      ],
      "metadata": {
        "id": "ieuhwrLW5fms",
        "colab": {
          "base_uri": "https://localhost:8080/"
        },
        "outputId": "d736b70b-a62d-41cc-8c37-1f3b4c529487"
      },
      "execution_count": null,
      "outputs": [
        {
          "output_type": "execute_result",
          "data": {
            "text/plain": [
              "Int64Index([], dtype='int64')"
            ]
          },
          "metadata": {},
          "execution_count": 96
        }
      ]
    },
    {
      "cell_type": "code",
      "source": [
        "#Droping the values\n",
        "data.drop(data.loc[ind1].index, inplace=True)"
      ],
      "metadata": {
        "id": "DL7VTzWOkuT-"
      },
      "execution_count": null,
      "outputs": []
    },
    {
      "cell_type": "code",
      "source": [
        "#Boxplot to find out outlier\n",
        "plt.boxplot(data['avgDuration'])\n",
        "plt.title('Boxplot of Average Rate - After outlier reduction ')"
      ],
      "metadata": {
        "id": "Tx_j7_4Zk9_r",
        "colab": {
          "base_uri": "https://localhost:8080/",
          "height": 298
        },
        "outputId": "de8a0e87-cb3b-4e17-c1c9-82835f689301"
      },
      "execution_count": null,
      "outputs": [
        {
          "output_type": "execute_result",
          "data": {
            "text/plain": [
              "Text(0.5, 1.0, 'Boxplot of Average Rate - After outlier reduction ')"
            ]
          },
          "metadata": {},
          "execution_count": 98
        },
        {
          "output_type": "display_data",
          "data": {
            "image/png": "[encoded data removed]",
            "text/plain": [
              "<Figure size 432x288 with 1 Axes>"
            ]
          },
          "metadata": {
            "needs_background": "light"
          }
        }
      ]
    },
    {
      "cell_type": "code",
      "source": [
        "# Now we can see that our outliers are reduced."
      ],
      "metadata": {
        "id": "MXawzEXo6ztT"
      },
      "execution_count": null,
      "outputs": []
    },
    {
      "cell_type": "code",
      "source": [
        "#Boxplot to find out outlier\n",
        "plt.boxplot(data['weekdays_trails_watched_per_day'])\n",
        "plt.title('Boxplot of weekdays_trails_watched_per_day  ')"
      ],
      "metadata": {
        "id": "ctf064LXlMIu",
        "colab": {
          "base_uri": "https://localhost:8080/",
          "height": 298
        },
        "outputId": "42734bf3-cdfa-4cf8-b3ef-595ce4cb8976"
      },
      "execution_count": null,
      "outputs": [
        {
          "output_type": "execute_result",
          "data": {
            "text/plain": [
              "Text(0.5, 1.0, 'Boxplot of weekdays_trails_watched_per_day  ')"
            ]
          },
          "metadata": {},
          "execution_count": 100
        },
        {
          "output_type": "display_data",
          "data": {
            "image/png": "[encoded data removed]",
            "text/plain": [
              "<Figure size 432x288 with 1 Axes>"
            ]
          },
          "metadata": {
            "needs_background": "light"
          }
        }
      ]
    },
    {
      "cell_type": "code",
      "source": [
        "#Outlier present so we need to eliminate the same\n",
        "Q1=np.percentile(data['weekdays_trails_watched_per_day'], 25, interpolation='nearest')\n",
        "Q2=np.percentile(data['weekdays_trails_watched_per_day'], 50, interpolation='nearest')\n",
        "Q3=np.percentile(data['weekdays_trails_watched_per_day'], 75, interpolation='nearest')"
      ],
      "metadata": {
        "id": "Q1WaZkNunBEL"
      },
      "execution_count": null,
      "outputs": []
    },
    {
      "cell_type": "code",
      "source": [
        "IQR=Q3-Q1\n"
      ],
      "metadata": {
        "id": "LoFpxdhWoNm6"
      },
      "execution_count": null,
      "outputs": []
    },
    {
      "cell_type": "code",
      "source": [
        "low_limit=Q1-1.99*IQR\n",
        "upper_limit=Q3+1.99*IQR\n"
      ],
      "metadata": {
        "id": "lHIbZ7osoVzQ"
      },
      "execution_count": null,
      "outputs": []
    },
    {
      "cell_type": "code",
      "source": [
        "#Finding the Outliers in the 'weekdays_trails_watched_per_day\n",
        "outlier=[]\n",
        "for x in data['weekdays_trails_watched_per_day']:\n",
        "  if((x>upper_limit) or (x<low_limit)):\n",
        "    outlier.append(x)\n"
      ],
      "metadata": {
        "id": "6d66oaFwoa5R"
      },
      "execution_count": null,
      "outputs": []
    },
    {
      "cell_type": "code",
      "source": [
        "# We have all the upper limit values as outliers\n",
        "# finding the index values of outlier\n",
        "ind1 = data['weekdays_trails_watched_per_day'] > upper_limit\n",
        "data.loc[ind1].index"
      ],
      "metadata": {
        "id": "J2YIhTSM7dPi",
        "colab": {
          "base_uri": "https://localhost:8080/"
        },
        "outputId": "61f3f948-49f7-4121-c7db-f44e3759a231"
      },
      "execution_count": null,
      "outputs": [
        {
          "output_type": "execute_result",
          "data": {
            "text/plain": [
              "Int64Index([], dtype='int64')"
            ]
          },
          "metadata": {},
          "execution_count": 105
        }
      ]
    },
    {
      "cell_type": "code",
      "source": [
        "#Droping the values\n",
        "data.drop(data.loc[ind1].index, inplace=True)"
      ],
      "metadata": {
        "id": "8THin1QjoiNR"
      },
      "execution_count": null,
      "outputs": []
    },
    {
      "cell_type": "code",
      "source": [
        "#Boxplot to find out outlier\n",
        "plt.boxplot(data['weekdays_trails_watched_per_day'])\n",
        "plt.title('Boxplot of weekdays_trails_watched_per_day -After outlier reduction ')"
      ],
      "metadata": {
        "id": "FfThvrnNolNg",
        "colab": {
          "base_uri": "https://localhost:8080/",
          "height": 298
        },
        "outputId": "2829aeb8-563d-4e46-d57c-64defedb9a11"
      },
      "execution_count": null,
      "outputs": [
        {
          "output_type": "execute_result",
          "data": {
            "text/plain": [
              "Text(0.5, 1.0, 'Boxplot of weekdays_trails_watched_per_day -After outlier reduction ')"
            ]
          },
          "metadata": {},
          "execution_count": 107
        },
        {
          "output_type": "display_data",
          "data": {
            "image/png": "[encoded data removed]",
            "text/plain": [
              "<Figure size 432x288 with 1 Axes>"
            ]
          },
          "metadata": {
            "needs_background": "light"
          }
        }
      ]
    },
    {
      "cell_type": "markdown",
      "source": [
        "Now we can see that out outliers are reduced"
      ],
      "metadata": {
        "id": "PRMdCC0B75r1"
      }
    },
    {
      "cell_type": "code",
      "source": [
        "#Boxplot to find out outlier\n",
        "plt.boxplot(data['weekends_trails_watched_per_day'])\n",
        "plt.title('Boxplot of Weekends')"
      ],
      "metadata": {
        "id": "YDfJCLnnwaRv",
        "colab": {
          "base_uri": "https://localhost:8080/",
          "height": 298
        },
        "outputId": "b9ffe459-050f-48ae-a3d7-e3edce610753"
      },
      "execution_count": null,
      "outputs": [
        {
          "output_type": "execute_result",
          "data": {
            "text/plain": [
              "Text(0.5, 1.0, 'Boxplot of Weekends')"
            ]
          },
          "metadata": {},
          "execution_count": 108
        },
        {
          "output_type": "display_data",
          "data": {
            "image/png": "[encoded data removed]",
            "text/plain": [
              "<Figure size 432x288 with 1 Axes>"
            ]
          },
          "metadata": {
            "needs_background": "light"
          }
        }
      ]
    },
    {
      "cell_type": "code",
      "source": [
        "Q1=np.percentile(data['weekends_trails_watched_per_day'], 25, interpolation='nearest')\n",
        "Q2=np.percentile(data['weekends_trails_watched_per_day'], 50, interpolation='nearest')\n",
        "Q3=np.percentile(data['weekends_trails_watched_per_day'], 75, interpolation='nearest')\n",
        "IQR=Q3-Q1"
      ],
      "metadata": {
        "id": "SnY-O23Jwq1B"
      },
      "execution_count": null,
      "outputs": []
    },
    {
      "cell_type": "code",
      "source": [
        "low_limit=Q1-1.95*IQR\n",
        "upper_limit=Q3+1.95*IQR\n",
        "\n"
      ],
      "metadata": {
        "id": "iiXhGsVQw62C"
      },
      "execution_count": null,
      "outputs": []
    },
    {
      "cell_type": "code",
      "source": [
        "outlier=[]\n",
        "for x in data['weekends_trails_watched_per_day']:\n",
        "  if((x>upper_limit) or (x<low_limit)):\n",
        "    outlier.append(x)\n"
      ],
      "metadata": {
        "id": "037ACUttw_ch"
      },
      "execution_count": null,
      "outputs": []
    },
    {
      "cell_type": "code",
      "source": [
        "# We have all the upper limit values as outliers\n",
        "# finding the index values of outlier\n",
        "ind1 = data['weekends_trails_watched_per_day'] > upper_limit\n",
        "data.loc[ind1].index"
      ],
      "metadata": {
        "id": "bJapHJeI8VAO",
        "colab": {
          "base_uri": "https://localhost:8080/"
        },
        "outputId": "4139ab13-3520-405e-ca39-299e18cf3ec2"
      },
      "execution_count": null,
      "outputs": [
        {
          "output_type": "execute_result",
          "data": {
            "text/plain": [
              "Int64Index([], dtype='int64')"
            ]
          },
          "metadata": {},
          "execution_count": 112
        }
      ]
    },
    {
      "cell_type": "code",
      "source": [
        "#Droping the values\n",
        "data.drop(data.loc[ind1].index, inplace=True)"
      ],
      "metadata": {
        "id": "9COyqLn9xHII"
      },
      "execution_count": null,
      "outputs": []
    },
    {
      "cell_type": "code",
      "source": [
        "#Boxplot to find out outlier\n",
        "plt.boxplot(data['weekends_trails_watched_per_day'])\n",
        "plt.title('Boxplot of Weekends - After outlier reduction')"
      ],
      "metadata": {
        "id": "EyVUqlM9xMoQ",
        "colab": {
          "base_uri": "https://localhost:8080/",
          "height": 298
        },
        "outputId": "10698939-4732-461f-aba9-0c4b8a2df8cc"
      },
      "execution_count": null,
      "outputs": [
        {
          "output_type": "execute_result",
          "data": {
            "text/plain": [
              "Text(0.5, 1.0, 'Boxplot of Weekends - After outlier reduction')"
            ]
          },
          "metadata": {},
          "execution_count": 114
        },
        {
          "output_type": "display_data",
          "data": {
            "image/png": "[encoded data removed]",
            "text/plain": [
              "<Figure size 432x288 with 1 Axes>"
            ]
          },
          "metadata": {
            "needs_background": "light"
          }
        }
      ]
    },
    {
      "cell_type": "markdown",
      "source": [
        "Now we can see that our outliers are reduced"
      ],
      "metadata": {
        "id": "qhMxJfeu8t-5"
      }
    },
    {
      "cell_type": "markdown",
      "source": [
        "####Feature reduction"
      ],
      "metadata": {
        "id": "DO3JjdF3JLhb"
      }
    },
    {
      "cell_type": "code",
      "source": [
        "#Taking the corelation matrix\n",
        "corelation_matrix=data.corr()\n",
        "plt.subplots(figsize=(10,4))\n",
        "sns.heatmap(corelation_matrix, vmin=-0.8, vmax=0.9, annot=True, linewidths=0.2, cmap='PuBuGn')"
      ],
      "metadata": {
        "id": "GFgoVf5koncO",
        "colab": {
          "base_uri": "https://localhost:8080/",
          "height": 445
        },
        "outputId": "b04a6b09-5052-47ab-a8ef-ba05033dced7"
      },
      "execution_count": null,
      "outputs": [
        {
          "output_type": "execute_result",
          "data": {
            "text/plain": [
              "<matplotlib.axes._subplots.AxesSubplot at 0x7fe80295fb10>"
            ]
          },
          "metadata": {},
          "execution_count": 116
        },
        {
          "output_type": "display_data",
          "data": {
            "image/png": "[encoded data removed]",
            "text/plain": [
              "<Figure size 720x288 with 2 Axes>"
            ]
          },
          "metadata": {
            "needs_background": "light"
          }
        }
      ]
    },
    {
      "cell_type": "code",
      "source": [
        "# Sorting values in correlation matrix\n",
        "correlation_mat = data.corr()\n",
        "\n",
        "corr_pairs = correlation_mat.unstack()\n",
        "sorted_pairs = corr_pairs.sort_values(kind=\"quicksort\")\n",
        "\n",
        "print(sorted_pairs)"
      ],
      "metadata": {
        "id": "D5NUcezYK9AV",
        "colab": {
          "base_uri": "https://localhost:8080/"
        },
        "outputId": "9664740a-ceb3-4e6b-e913-095ef9fcacce"
      },
      "execution_count": null,
      "outputs": [
        {
          "output_type": "stream",
          "name": "stdout",
          "text": [
            "userId  userId                         NaN\n",
            "        tier                           NaN\n",
            "        gender                         NaN\n",
            "        following_rate                 NaN\n",
            "        followers_avg_age              NaN\n",
            "                                        ..\n",
            "avgt2   slot1_trails_watched_per_day   NaN\n",
            "        slot2_trails_watched_per_day   NaN\n",
            "        slot3_trails_watched_per_day   NaN\n",
            "        slot4_trails_watched_per_day   NaN\n",
            "        avgt2                          NaN\n",
            "Length: 625, dtype: float64\n"
          ]
        }
      ]
    },
    {
      "cell_type": "code",
      "source": [
        "#Data Droping due to low co-relation \n",
        "final_data=data.drop(['userId','max_repetitive_punc','punctuations_per_action','number_of_words_per_action','avgComments','creations','num_of_comments','content_views'],axis=1)"
      ],
      "metadata": {
        "id": "UBHLcyqgpJ73"
      },
      "execution_count": null,
      "outputs": []
    },
    {
      "cell_type": "markdown",
      "source": [
        "Removed the above attibutes from the table since it have less significant"
      ],
      "metadata": {
        "id": "6waskd66xV2o"
      }
    },
    {
      "cell_type": "code",
      "source": [
        "final_data.describe()"
      ],
      "metadata": {
        "id": "-xN4GQY-raxG",
        "colab": {
          "base_uri": "https://localhost:8080/",
          "height": 364
        },
        "outputId": "6c4ddac4-f1d3-4a97-f46d-ffde4c5d58a3"
      },
      "execution_count": null,
      "outputs": [
        {
          "output_type": "execute_result",
          "data": {
            "text/html": [
              "\n",
              "  <div id=\"df-7588773e-c79e-4e26-83db-0180dc20e6d0\">\n",
              "    <div class=\"colab-df-container\">\n",
              "      <div>\n",
              "<style scoped>\n",
              "    .dataframe tbody tr th:only-of-type {\n",
              "        vertical-align: middle;\n",
              "    }\n",
              "\n",
              "    .dataframe tbody tr th {\n",
              "        vertical-align: top;\n",
              "    }\n",
              "\n",
              "    .dataframe thead th {\n",
              "        text-align: right;\n",
              "    }\n",
              "</style>\n",
              "<table border=\"1\" class=\"dataframe\">\n",
              "  <thead>\n",
              "    <tr style=\"text-align: right;\">\n",
              "      <th></th>\n",
              "      <th>tier</th>\n",
              "      <th>gender</th>\n",
              "      <th>following_rate</th>\n",
              "      <th>followers_avg_age</th>\n",
              "      <th>following_avg_age</th>\n",
              "      <th>num_of_hashtags_per_action</th>\n",
              "      <th>emoji_count_per_action</th>\n",
              "      <th>avgCompletion</th>\n",
              "      <th>avgTimeSpent</th>\n",
              "      <th>avgDuration</th>\n",
              "      <th>weekends_trails_watched_per_day</th>\n",
              "      <th>weekdays_trails_watched_per_day</th>\n",
              "      <th>slot1_trails_watched_per_day</th>\n",
              "      <th>slot2_trails_watched_per_day</th>\n",
              "      <th>slot3_trails_watched_per_day</th>\n",
              "      <th>slot4_trails_watched_per_day</th>\n",
              "      <th>avgt2</th>\n",
              "    </tr>\n",
              "  </thead>\n",
              "  <tbody>\n",
              "    <tr>\n",
              "      <th>count</th>\n",
              "      <td>1.0</td>\n",
              "      <td>1.0</td>\n",
              "      <td>1.0</td>\n",
              "      <td>1.0</td>\n",
              "      <td>1.0</td>\n",
              "      <td>1.0</td>\n",
              "      <td>1.0</td>\n",
              "      <td>1.0</td>\n",
              "      <td>1.0</td>\n",
              "      <td>1.000</td>\n",
              "      <td>1.0</td>\n",
              "      <td>1.000000</td>\n",
              "      <td>1.0</td>\n",
              "      <td>1.000000</td>\n",
              "      <td>1.0</td>\n",
              "      <td>1.0</td>\n",
              "      <td>1.0</td>\n",
              "    </tr>\n",
              "    <tr>\n",
              "      <th>mean</th>\n",
              "      <td>2.0</td>\n",
              "      <td>1.0</td>\n",
              "      <td>0.0</td>\n",
              "      <td>0.0</td>\n",
              "      <td>0.0</td>\n",
              "      <td>0.0</td>\n",
              "      <td>0.0</td>\n",
              "      <td>1.0</td>\n",
              "      <td>8.0</td>\n",
              "      <td>0.767</td>\n",
              "      <td>0.0</td>\n",
              "      <td>0.001575</td>\n",
              "      <td>0.0</td>\n",
              "      <td>0.007874</td>\n",
              "      <td>0.0</td>\n",
              "      <td>0.0</td>\n",
              "      <td>0.0</td>\n",
              "    </tr>\n",
              "    <tr>\n",
              "      <th>std</th>\n",
              "      <td>NaN</td>\n",
              "      <td>NaN</td>\n",
              "      <td>NaN</td>\n",
              "      <td>NaN</td>\n",
              "      <td>NaN</td>\n",
              "      <td>NaN</td>\n",
              "      <td>NaN</td>\n",
              "      <td>NaN</td>\n",
              "      <td>NaN</td>\n",
              "      <td>NaN</td>\n",
              "      <td>NaN</td>\n",
              "      <td>NaN</td>\n",
              "      <td>NaN</td>\n",
              "      <td>NaN</td>\n",
              "      <td>NaN</td>\n",
              "      <td>NaN</td>\n",
              "      <td>NaN</td>\n",
              "    </tr>\n",
              "    <tr>\n",
              "      <th>min</th>\n",
              "      <td>2.0</td>\n",
              "      <td>1.0</td>\n",
              "      <td>0.0</td>\n",
              "      <td>0.0</td>\n",
              "      <td>0.0</td>\n",
              "      <td>0.0</td>\n",
              "      <td>0.0</td>\n",
              "      <td>1.0</td>\n",
              "      <td>8.0</td>\n",
              "      <td>0.767</td>\n",
              "      <td>0.0</td>\n",
              "      <td>0.001575</td>\n",
              "      <td>0.0</td>\n",
              "      <td>0.007874</td>\n",
              "      <td>0.0</td>\n",
              "      <td>0.0</td>\n",
              "      <td>0.0</td>\n",
              "    </tr>\n",
              "    <tr>\n",
              "      <th>25%</th>\n",
              "      <td>2.0</td>\n",
              "      <td>1.0</td>\n",
              "      <td>0.0</td>\n",
              "      <td>0.0</td>\n",
              "      <td>0.0</td>\n",
              "      <td>0.0</td>\n",
              "      <td>0.0</td>\n",
              "      <td>1.0</td>\n",
              "      <td>8.0</td>\n",
              "      <td>0.767</td>\n",
              "      <td>0.0</td>\n",
              "      <td>0.001575</td>\n",
              "      <td>0.0</td>\n",
              "      <td>0.007874</td>\n",
              "      <td>0.0</td>\n",
              "      <td>0.0</td>\n",
              "      <td>0.0</td>\n",
              "    </tr>\n",
              "    <tr>\n",
              "      <th>50%</th>\n",
              "      <td>2.0</td>\n",
              "      <td>1.0</td>\n",
              "      <td>0.0</td>\n",
              "      <td>0.0</td>\n",
              "      <td>0.0</td>\n",
              "      <td>0.0</td>\n",
              "      <td>0.0</td>\n",
              "      <td>1.0</td>\n",
              "      <td>8.0</td>\n",
              "      <td>0.767</td>\n",
              "      <td>0.0</td>\n",
              "      <td>0.001575</td>\n",
              "      <td>0.0</td>\n",
              "      <td>0.007874</td>\n",
              "      <td>0.0</td>\n",
              "      <td>0.0</td>\n",
              "      <td>0.0</td>\n",
              "    </tr>\n",
              "    <tr>\n",
              "      <th>75%</th>\n",
              "      <td>2.0</td>\n",
              "      <td>1.0</td>\n",
              "      <td>0.0</td>\n",
              "      <td>0.0</td>\n",
              "      <td>0.0</td>\n",
              "      <td>0.0</td>\n",
              "      <td>0.0</td>\n",
              "      <td>1.0</td>\n",
              "      <td>8.0</td>\n",
              "      <td>0.767</td>\n",
              "      <td>0.0</td>\n",
              "      <td>0.001575</td>\n",
              "      <td>0.0</td>\n",
              "      <td>0.007874</td>\n",
              "      <td>0.0</td>\n",
              "      <td>0.0</td>\n",
              "      <td>0.0</td>\n",
              "    </tr>\n",
              "    <tr>\n",
              "      <th>max</th>\n",
              "      <td>2.0</td>\n",
              "      <td>1.0</td>\n",
              "      <td>0.0</td>\n",
              "      <td>0.0</td>\n",
              "      <td>0.0</td>\n",
              "      <td>0.0</td>\n",
              "      <td>0.0</td>\n",
              "      <td>1.0</td>\n",
              "      <td>8.0</td>\n",
              "      <td>0.767</td>\n",
              "      <td>0.0</td>\n",
              "      <td>0.001575</td>\n",
              "      <td>0.0</td>\n",
              "      <td>0.007874</td>\n",
              "      <td>0.0</td>\n",
              "      <td>0.0</td>\n",
              "      <td>0.0</td>\n",
              "    </tr>\n",
              "  </tbody>\n",
              "</table>\n",
              "</div>\n",
              "      <button class=\"colab-df-convert\" onclick=\"convertToInteractive('df-7588773e-c79e-4e26-83db-0180dc20e6d0')\"\n",
              "              title=\"Convert this dataframe to an interactive table.\"\n",
              "              style=\"display:none;\">\n",
              "        \n",
              "  <svg xmlns=\"http://www.w3.org/2000/svg\" height=\"24px\"viewBox=\"0 0 24 24\"\n",
              "       width=\"24px\">\n",
              "    <path d=\"M0 0h24v24H0V0z\" fill=\"none\"/>\n",
              "    <path d=\"M18.56 5.44l.94 2.06.94-2.06 2.06-.94-2.06-.94-.94-2.06-.94 2.06-2.06.94zm-11 1L8.5 8.5l.94-2.06 2.06-.94-2.06-.94L8.5 2.5l-.94 2.06-2.06.94zm10 10l.94 2.06.94-2.06 2.06-.94-2.06-.94-.94-2.06-.94 2.06-2.06.94z\"/><path d=\"M17.41 7.96l-1.37-1.37c-.4-.4-.92-.59-1.43-.59-.52 0-1.04.2-1.43.59L10.3 9.45l-7.72 7.72c-.78.78-.78 2.05 0 2.83L4 21.41c.39.39.9.59 1.41.59.51 0 1.02-.2 1.41-.59l7.78-7.78 2.81-2.81c.8-.78.8-2.07 0-2.86zM5.41 20L4 18.59l7.72-7.72 1.47 1.35L5.41 20z\"/>\n",
              "  </svg>\n",
              "      </button>\n",
              "      \n",
              "  <style>\n",
              "    .colab-df-container {\n",
              "      display:flex;\n",
              "      flex-wrap:wrap;\n",
              "      gap: 12px;\n",
              "    }\n",
              "\n",
              "    .colab-df-convert {\n",
              "      background-color: #E8F0FE;\n",
              "      border: none;\n",
              "      border-radius: 50%;\n",
              "      cursor: pointer;\n",
              "      display: none;\n",
              "      fill: #1967D2;\n",
              "      height: 32px;\n",
              "      padding: 0 0 0 0;\n",
              "      width: 32px;\n",
              "    }\n",
              "\n",
              "    .colab-df-convert:hover {\n",
              "      background-color: #E2EBFA;\n",
              "      box-shadow: 0px 1px 2px rgba(60, 64, 67, 0.3), 0px 1px 3px 1px rgba(60, 64, 67, 0.15);\n",
              "      fill: #174EA6;\n",
              "    }\n",
              "\n",
              "    [theme=dark] .colab-df-convert {\n",
              "      background-color: #3B4455;\n",
              "      fill: #D2E3FC;\n",
              "    }\n",
              "\n",
              "    [theme=dark] .colab-df-convert:hover {\n",
              "      background-color: #434B5C;\n",
              "      box-shadow: 0px 1px 3px 1px rgba(0, 0, 0, 0.15);\n",
              "      filter: drop-shadow(0px 1px 2px rgba(0, 0, 0, 0.3));\n",
              "      fill: #FFFFFF;\n",
              "    }\n",
              "  </style>\n",
              "\n",
              "      <script>\n",
              "        const buttonEl =\n",
              "          document.querySelector('#df-7588773e-c79e-4e26-83db-0180dc20e6d0 button.colab-df-convert');\n",
              "        buttonEl.style.display =\n",
              "          google.colab.kernel.accessAllowed ? 'block' : 'none';\n",
              "\n",
              "        async function convertToInteractive(key) {\n",
              "          const element = document.querySelector('#df-7588773e-c79e-4e26-83db-0180dc20e6d0');\n",
              "          const dataTable =\n",
              "            await google.colab.kernel.invokeFunction('convertToInteractive',\n",
              "                                                     [key], {});\n",
              "          if (!dataTable) return;\n",
              "\n",
              "          const docLinkHtml = 'Like what you see? Visit the ' +\n",
              "            '<a target=\"_blank\" href=https://colab.research.google.com/notebooks/data_table.ipynb>data table notebook</a>'\n",
              "            + ' to learn more about interactive tables.';\n",
              "          element.innerHTML = '';\n",
              "          dataTable['output_type'] = 'display_data';\n",
              "          await google.colab.output.renderOutput(dataTable, element);\n",
              "          const docLink = document.createElement('div');\n",
              "          docLink.innerHTML = docLinkHtml;\n",
              "          element.appendChild(docLink);\n",
              "        }\n",
              "      </script>\n",
              "    </div>\n",
              "  </div>\n",
              "  "
            ],
            "text/plain": [
              "       tier  gender  ...  slot4_trails_watched_per_day  avgt2\n",
              "count   1.0     1.0  ...                           1.0    1.0\n",
              "mean    2.0     1.0  ...                           0.0    0.0\n",
              "std     NaN     NaN  ...                           NaN    NaN\n",
              "min     2.0     1.0  ...                           0.0    0.0\n",
              "25%     2.0     1.0  ...                           0.0    0.0\n",
              "50%     2.0     1.0  ...                           0.0    0.0\n",
              "75%     2.0     1.0  ...                           0.0    0.0\n",
              "max     2.0     1.0  ...                           0.0    0.0\n",
              "\n",
              "[8 rows x 17 columns]"
            ]
          },
          "metadata": {},
          "execution_count": 121
        }
      ]
    },
    {
      "cell_type": "code",
      "source": [
        "#Taking the corelation matrix\n",
        "corelation_matrix=final_data.corr()\n",
        "plt.subplots(figsize=(20,8))\n",
        "sns.heatmap(corelation_matrix, vmin=0.004, vmax=0.8, annot=True, linewidths=0.2, cmap='PuBuGn')"
      ],
      "metadata": {
        "id": "GwOMla6dreOr",
        "colab": {
          "base_uri": "https://localhost:8080/",
          "height": 537
        },
        "outputId": "de5bf340-4a27-4a45-8c32-f14a39ad8e1d"
      },
      "execution_count": null,
      "outputs": [
        {
          "output_type": "execute_result",
          "data": {
            "text/plain": [
              "<matplotlib.axes._subplots.AxesSubplot at 0x7fe802400f50>"
            ]
          },
          "metadata": {},
          "execution_count": 122
        },
        {
          "output_type": "display_data",
          "data": {
            "image/png": "[encoded data removed]",
            "text/plain": [
              "<Figure size 1440x576 with 2 Axes>"
            ]
          },
          "metadata": {
            "needs_background": "light"
          }
        }
      ]
    },
    {
      "cell_type": "code",
      "source": [
        "final_data.columns"
      ],
      "metadata": {
        "id": "bLbyRFVnsjQD",
        "colab": {
          "base_uri": "https://localhost:8080/"
        },
        "outputId": "6ef69a2b-8ed4-4984-c493-d31b1cf4d3d8"
      },
      "execution_count": null,
      "outputs": [
        {
          "output_type": "execute_result",
          "data": {
            "text/plain": [
              "Index(['tier', 'gender', 'following_rate', 'followers_avg_age',\n",
              "       'following_avg_age', 'num_of_hashtags_per_action',\n",
              "       'emoji_count_per_action', 'avgCompletion', 'avgTimeSpent',\n",
              "       'avgDuration', 'weekends_trails_watched_per_day',\n",
              "       'weekdays_trails_watched_per_day', 'slot1_trails_watched_per_day',\n",
              "       'slot2_trails_watched_per_day', 'slot3_trails_watched_per_day',\n",
              "       'slot4_trails_watched_per_day', 'avgt2'],\n",
              "      dtype='object')"
            ]
          },
          "metadata": {},
          "execution_count": 123
        }
      ]
    },
    {
      "cell_type": "code",
      "source": [
        "# Selecting our target variable and independent variables"
      ],
      "metadata": {
        "id": "il48JFAbPnFi"
      },
      "execution_count": null,
      "outputs": []
    },
    {
      "cell_type": "markdown",
      "source": [
        "# **Exploratory Data Analysis**"
      ],
      "metadata": {
        "id": "8538PgE-QsQ3"
      }
    },
    {
      "cell_type": "code",
      "source": [
        "# Let's draw a pie chart showing the genderwise representation\n",
        "data['gender'].value_counts().plot.pie(label=('Genderwise Representation'),colormap='brg', autopct='%1.0f%%') \n",
        "plt.show()"
      ],
      "metadata": {
        "id": "z3fL_0A0QyNH",
        "colab": {
          "base_uri": "https://localhost:8080/",
          "height": 248
        },
        "outputId": "e64567e3-f0df-4be6-8a71-acfb6f2bf903"
      },
      "execution_count": null,
      "outputs": [
        {
          "output_type": "display_data",
          "data": {
            "image/png": "[encoded data removed]",
            "text/plain": [
              "<Figure size 432x288 with 1 Axes>"
            ]
          },
          "metadata": {}
        }
      ]
    },
    {
      "cell_type": "markdown",
      "source": [
        "We can infer that 80% of the people belongs to gender1."
      ],
      "metadata": {
        "id": "6mQaOsnxTMI7"
      }
    },
    {
      "cell_type": "code",
      "source": [
        "# plt.figure(figsize = (6,10))\n",
        "# sns.countplot(data[\"tier\"] )"
      ],
      "metadata": {
        "id": "A_DwPXpmAzBV"
      },
      "execution_count": null,
      "outputs": []
    },
    {
      "cell_type": "code",
      "source": [
        "data.columns"
      ],
      "metadata": {
        "id": "nMWor6OPUieo"
      },
      "execution_count": null,
      "outputs": []
    },
    {
      "cell_type": "code",
      "source": [
        "# Creating a cross tab based on tier and gender\n",
        "pd.crosstab(data.gender, data.tier)  "
      ],
      "metadata": {
        "id": "Yj2_HevHS2IV"
      },
      "execution_count": null,
      "outputs": []
    },
    {
      "cell_type": "code",
      "source": [
        "# Let's plot a bar graph\n",
        "pd.crosstab(data.gender, data.tier).plot(kind='bar')  \n",
        "plt.tight_layout()"
      ],
      "metadata": {
        "id": "xUUidKVjTpCq"
      },
      "execution_count": null,
      "outputs": []
    },
    {
      "cell_type": "markdown",
      "source": [
        "All the categorical variables are highly imbalanced."
      ],
      "metadata": {
        "id": "OizQxVcFfj1Z"
      }
    },
    {
      "cell_type": "code",
      "source": [
        "data.head(8)"
      ],
      "metadata": {
        "id": "n1cMVURGfBDC",
        "colab": {
          "base_uri": "https://localhost:8080/",
          "height": 145
        },
        "outputId": "e84a64c1-81f0-494f-8e2e-4eeede07f8cb"
      },
      "execution_count": null,
      "outputs": [
        {
          "output_type": "execute_result",
          "data": {
            "text/html": [
              "\n",
              "  <div id=\"df-2f295fb2-3305-4ba7-bcf1-1656ed0a0cdd\">\n",
              "    <div class=\"colab-df-container\">\n",
              "      <div>\n",
              "<style scoped>\n",
              "    .dataframe tbody tr th:only-of-type {\n",
              "        vertical-align: middle;\n",
              "    }\n",
              "\n",
              "    .dataframe tbody tr th {\n",
              "        vertical-align: top;\n",
              "    }\n",
              "\n",
              "    .dataframe thead th {\n",
              "        text-align: right;\n",
              "    }\n",
              "</style>\n",
              "<table border=\"1\" class=\"dataframe\">\n",
              "  <thead>\n",
              "    <tr style=\"text-align: right;\">\n",
              "      <th></th>\n",
              "      <th>userId</th>\n",
              "      <th>tier</th>\n",
              "      <th>gender</th>\n",
              "      <th>following_rate</th>\n",
              "      <th>followers_avg_age</th>\n",
              "      <th>following_avg_age</th>\n",
              "      <th>max_repetitive_punc</th>\n",
              "      <th>num_of_hashtags_per_action</th>\n",
              "      <th>emoji_count_per_action</th>\n",
              "      <th>punctuations_per_action</th>\n",
              "      <th>number_of_words_per_action</th>\n",
              "      <th>avgCompletion</th>\n",
              "      <th>avgTimeSpent</th>\n",
              "      <th>avgDuration</th>\n",
              "      <th>avgComments</th>\n",
              "      <th>creations</th>\n",
              "      <th>content_views</th>\n",
              "      <th>num_of_comments</th>\n",
              "      <th>weekends_trails_watched_per_day</th>\n",
              "      <th>weekdays_trails_watched_per_day</th>\n",
              "      <th>slot1_trails_watched_per_day</th>\n",
              "      <th>slot2_trails_watched_per_day</th>\n",
              "      <th>slot3_trails_watched_per_day</th>\n",
              "      <th>slot4_trails_watched_per_day</th>\n",
              "      <th>avgt2</th>\n",
              "    </tr>\n",
              "  </thead>\n",
              "  <tbody>\n",
              "    <tr>\n",
              "      <th>52649</th>\n",
              "      <td>32904172</td>\n",
              "      <td>2</td>\n",
              "      <td>1</td>\n",
              "      <td>0.0</td>\n",
              "      <td>0.0</td>\n",
              "      <td>0.0</td>\n",
              "      <td>0</td>\n",
              "      <td>0.0</td>\n",
              "      <td>0.0</td>\n",
              "      <td>0.0</td>\n",
              "      <td>0.0</td>\n",
              "      <td>1.0</td>\n",
              "      <td>8.0</td>\n",
              "      <td>0.767</td>\n",
              "      <td>0</td>\n",
              "      <td>0.0</td>\n",
              "      <td>0.007874</td>\n",
              "      <td>0.0</td>\n",
              "      <td>0.0</td>\n",
              "      <td>0.001575</td>\n",
              "      <td>0.0</td>\n",
              "      <td>0.007874</td>\n",
              "      <td>0.0</td>\n",
              "      <td>0.0</td>\n",
              "      <td>0.0</td>\n",
              "    </tr>\n",
              "  </tbody>\n",
              "</table>\n",
              "</div>\n",
              "      <button class=\"colab-df-convert\" onclick=\"convertToInteractive('df-2f295fb2-3305-4ba7-bcf1-1656ed0a0cdd')\"\n",
              "              title=\"Convert this dataframe to an interactive table.\"\n",
              "              style=\"display:none;\">\n",
              "        \n",
              "  <svg xmlns=\"http://www.w3.org/2000/svg\" height=\"24px\"viewBox=\"0 0 24 24\"\n",
              "       width=\"24px\">\n",
              "    <path d=\"M0 0h24v24H0V0z\" fill=\"none\"/>\n",
              "    <path d=\"M18.56 5.44l.94 2.06.94-2.06 2.06-.94-2.06-.94-.94-2.06-.94 2.06-2.06.94zm-11 1L8.5 8.5l.94-2.06 2.06-.94-2.06-.94L8.5 2.5l-.94 2.06-2.06.94zm10 10l.94 2.06.94-2.06 2.06-.94-2.06-.94-.94-2.06-.94 2.06-2.06.94z\"/><path d=\"M17.41 7.96l-1.37-1.37c-.4-.4-.92-.59-1.43-.59-.52 0-1.04.2-1.43.59L10.3 9.45l-7.72 7.72c-.78.78-.78 2.05 0 2.83L4 21.41c.39.39.9.59 1.41.59.51 0 1.02-.2 1.41-.59l7.78-7.78 2.81-2.81c.8-.78.8-2.07 0-2.86zM5.41 20L4 18.59l7.72-7.72 1.47 1.35L5.41 20z\"/>\n",
              "  </svg>\n",
              "      </button>\n",
              "      \n",
              "  <style>\n",
              "    .colab-df-container {\n",
              "      display:flex;\n",
              "      flex-wrap:wrap;\n",
              "      gap: 12px;\n",
              "    }\n",
              "\n",
              "    .colab-df-convert {\n",
              "      background-color: #E8F0FE;\n",
              "      border: none;\n",
              "      border-radius: 50%;\n",
              "      cursor: pointer;\n",
              "      display: none;\n",
              "      fill: #1967D2;\n",
              "      height: 32px;\n",
              "      padding: 0 0 0 0;\n",
              "      width: 32px;\n",
              "    }\n",
              "\n",
              "    .colab-df-convert:hover {\n",
              "      background-color: #E2EBFA;\n",
              "      box-shadow: 0px 1px 2px rgba(60, 64, 67, 0.3), 0px 1px 3px 1px rgba(60, 64, 67, 0.15);\n",
              "      fill: #174EA6;\n",
              "    }\n",
              "\n",
              "    [theme=dark] .colab-df-convert {\n",
              "      background-color: #3B4455;\n",
              "      fill: #D2E3FC;\n",
              "    }\n",
              "\n",
              "    [theme=dark] .colab-df-convert:hover {\n",
              "      background-color: #434B5C;\n",
              "      box-shadow: 0px 1px 3px 1px rgba(0, 0, 0, 0.15);\n",
              "      filter: drop-shadow(0px 1px 2px rgba(0, 0, 0, 0.3));\n",
              "      fill: #FFFFFF;\n",
              "    }\n",
              "  </style>\n",
              "\n",
              "      <script>\n",
              "        const buttonEl =\n",
              "          document.querySelector('#df-2f295fb2-3305-4ba7-bcf1-1656ed0a0cdd button.colab-df-convert');\n",
              "        buttonEl.style.display =\n",
              "          google.colab.kernel.accessAllowed ? 'block' : 'none';\n",
              "\n",
              "        async function convertToInteractive(key) {\n",
              "          const element = document.querySelector('#df-2f295fb2-3305-4ba7-bcf1-1656ed0a0cdd');\n",
              "          const dataTable =\n",
              "            await google.colab.kernel.invokeFunction('convertToInteractive',\n",
              "                                                     [key], {});\n",
              "          if (!dataTable) return;\n",
              "\n",
              "          const docLinkHtml = 'Like what you see? Visit the ' +\n",
              "            '<a target=\"_blank\" href=https://colab.research.google.com/notebooks/data_table.ipynb>data table notebook</a>'\n",
              "            + ' to learn more about interactive tables.';\n",
              "          element.innerHTML = '';\n",
              "          dataTable['output_type'] = 'display_data';\n",
              "          await google.colab.output.renderOutput(dataTable, element);\n",
              "          const docLink = document.createElement('div');\n",
              "          docLink.innerHTML = docLinkHtml;\n",
              "          element.appendChild(docLink);\n",
              "        }\n",
              "      </script>\n",
              "    </div>\n",
              "  </div>\n",
              "  "
            ],
            "text/plain": [
              "         userId  tier  ...  slot4_trails_watched_per_day  avgt2\n",
              "52649  32904172     2  ...                           0.0    0.0\n",
              "\n",
              "[1 rows x 25 columns]"
            ]
          },
          "metadata": {},
          "execution_count": 125
        }
      ]
    },
    {
      "cell_type": "code",
      "source": [
        "plt.figure(figsize=(12,8))\n",
        "plt.scatter(data['following_rate'], data['followers_avg_age'], s=10, c='brown')\n",
        "plt.title('Relation b/w followers average age and following_rate', fontsize = 14)\n",
        "plt.xlabel('following_rate')\n",
        "plt.ylabel('followers_avg_age')"
      ],
      "metadata": {
        "id": "Y-Dek1lYfx8O",
        "colab": {
          "base_uri": "https://localhost:8080/",
          "height": 532
        },
        "outputId": "dd8c2327-5bf8-4255-8560-dbb67928de67"
      },
      "execution_count": null,
      "outputs": [
        {
          "output_type": "execute_result",
          "data": {
            "text/plain": [
              "Text(0, 0.5, 'followers_avg_age')"
            ]
          },
          "metadata": {},
          "execution_count": 126
        },
        {
          "output_type": "display_data",
          "data": {
            "image/png": "[encoded data removed]",
            "text/plain": [
              "<Figure size 864x576 with 1 Axes>"
            ]
          },
          "metadata": {
            "needs_background": "light"
          }
        }
      ]
    },
    {
      "cell_type": "code",
      "source": [
        "data.columns"
      ],
      "metadata": {
        "id": "X29wPqgWxIyV"
      },
      "execution_count": null,
      "outputs": []
    },
    {
      "cell_type": "code",
      "source": [
        "plt.figure(figsize=(6,4))\n",
        "plt.scatter(data['num_of_hashtags_per_action'], data['followers_avg_age'], s=12, c='violet', marker = \"^\")\n",
        "plt.title('hashtag usage by age', fontsize = 16)\n",
        "plt.xlabel('num_of_hashtags_per_action')\n",
        "plt.ylabel('followers_avg_age')\n",
        "plt.show()"
      ],
      "metadata": {
        "id": "fA8zHxyxhBJf"
      },
      "execution_count": null,
      "outputs": []
    },
    {
      "cell_type": "code",
      "source": [
        "plt.figure(figsize=(6,4))\n",
        "plt.scatter(data['avgTimeSpent'], data['following_rate'])\n",
        "plt.title(' Time spent v/s following rate', fontsize = 16)\n",
        "plt.xlabel('avgTimeSpent')\n",
        "plt.ylabel('following_rate')"
      ],
      "metadata": {
        "id": "e32Er2vdxpDw"
      },
      "execution_count": null,
      "outputs": []
    },
    {
      "cell_type": "code",
      "source": [
        "data[['', '']].plot.hist()"
      ],
      "metadata": {
        "id": "QAc1SYGFyPGI"
      },
      "execution_count": null,
      "outputs": []
    },
    {
      "cell_type": "code",
      "source": [
        "data1[['avgTimeSpent', 'avgCompletion']].plot.kde()"
      ],
      "metadata": {
        "id": "g8ovqtdt0D9n"
      },
      "execution_count": null,
      "outputs": []
    },
    {
      "cell_type": "code",
      "source": [
        "sns.pairplot(data[['weekends_trails_watched_per_day', 'weekdays_trails_watched_per_day',\n",
        "       'slot1_trails_watched_per_day', 'slot2_trails_watched_per_day',\n",
        "       'slot3_trails_watched_per_day', 'slot4_trails_watched_per_day']], height = 3.5)\n",
        "plt.tight_layout()"
      ],
      "metadata": {
        "id": "iInDeZTY0OUS"
      },
      "execution_count": null,
      "outputs": []
    },
    {
      "cell_type": "code",
      "source": [
        "data.columns"
      ],
      "metadata": {
        "id": "Iy_ypVhd3Twj"
      },
      "execution_count": null,
      "outputs": []
    },
    {
      "cell_type": "code",
      "source": [
        "sns.lineplot(\n",
        "    data=data,\n",
        "    x=\"avgDuration\", y=\"avgComments\", hue=\"gender\",\n",
        "    markers=True, dashes=False\n",
        ")"
      ],
      "metadata": {
        "id": "xI-XIAzY1YCz"
      },
      "execution_count": null,
      "outputs": []
    },
    {
      "cell_type": "code",
      "source": [
        "sns.lineplot(data=data,\n",
        "    x=\"avgDuration\", y=\"avgComments\", hue=\"tier\")"
      ],
      "metadata": {
        "id": "0RVTZe8u3qEZ"
      },
      "execution_count": null,
      "outputs": []
    },
    {
      "cell_type": "code",
      "source": [
        ""
      ],
      "metadata": {
        "id": "_lIrIhc64q5r"
      },
      "execution_count": null,
      "outputs": []
    }
  ]
}